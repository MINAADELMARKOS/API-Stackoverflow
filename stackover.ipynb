{
 "cells": [
  {
   "attachments": {},
   "cell_type": "markdown",
   "metadata": {},
   "source": [
    "# **API with Python**"
   ]
  },
  {
   "attachments": {},
   "cell_type": "markdown",
   "metadata": {},
   "source": [
    "**APi** stands on Application programming interface\n",
    "\n",
    "**RSET** stands on Representational State Transfer\n",
    "\n",
    "**json** stands on JavaScript Object Notation"
   ]
  },
  {
   "attachments": {},
   "cell_type": "markdown",
   "metadata": {},
   "source": [
    "### Import Libraries"
   ]
  },
  {
   "cell_type": "code",
   "execution_count": 32,
   "metadata": {},
   "outputs": [],
   "source": [
    "import pandas as pd\n",
    "import numpy as np\n",
    "import requests\n",
    "import json\n",
    "import plotly.io as pio\n",
    "import plotly.express as px\n",
    "from collections import Counter\n",
    "pio.templates.default = 'plotly_dark'\n",
    "from pandas import json_normalize"
   ]
  },
  {
   "attachments": {},
   "cell_type": "markdown",
   "metadata": {},
   "source": [
    "# **API Stackoverflow**\n",
    "- Extract information about Badges\n",
    "\n",
    "#### **Discussion**\n",
    "\n",
    "Returns all the badges in the system.\n",
    "\n",
    "Badge sorts are a tad complicated. For the purposes of sorting (and min/max) tag_based is considered to be greater than named.\n",
    "\n",
    "This means that you can get a list of all tag based badges by passing min=tag_based, and conversely all the named badges by passing max=named, with sort=type.\n",
    "\n",
    "For ranks, bronze is greater than silver which is greater than gold. Along with sort=rank, set max=gold for just gold badges, max=silver&min=silver for just silver, and min=bronze for just bronze.\n",
    "\n",
    "rank is the default sort.\n",
    "\n",
    "This method returns a list of badges.\n",
    "\n",
    "- Extract information about Questions\n",
    "\n",
    "\n",
    "#### **Discussion**\n",
    "\n",
    "Gets all the questions on the site.\n",
    "\n",
    "This method allows you make fairly flexible queries across the entire corpus of questions on a site. For example, getting all questions asked in the the week of Jan 1st 2011 with scores of 10 or more is a single query with parameters sort=votes&min=10&fromdate=1293840000&todate=1294444800.\n",
    "\n",
    "To constrain questions returned to those with a set of tags, use the tagged parameter with a semi-colon delimited list of tags. This is an and constraint, passing tagged=c;java will return only those questions with both tags. As such, passing more than 5 tags will always return zero results.\n",
    "\n",
    "The sorts accepted by this method operate on the following fields of the question object:\n",
    "\n",
    "activity – last_activity_date\n",
    "creation – creation_date\n",
    "votes – score\n",
    "hot – by the formula ordering the hot tab\n",
    "Does not accept min or max\n",
    "week – by the formula ordering the week tab\n",
    "Does not accept min or max\n",
    "month – by the formula ordering the month tab\n",
    "Does not accept min or max\n",
    "activity is the default sort.\n",
    "\n",
    "<center>\n",
    "<img align=\"center\" src=\"12.png\"     style=\" width:400px; padding: 20px; \" > \n",
    "<center>\n",
    "\n",
    "\n",
    "It is possible to create moderately complex queries using sort, min, max, fromdate, and todate.\n",
    "This method returns a list of questions."
   ]
  },
  {
   "attachments": {},
   "cell_type": "markdown",
   "metadata": {},
   "source": [
    "### **Extract information about Questions**\n"
   ]
  },
  {
   "cell_type": "code",
   "execution_count": 40,
   "metadata": {},
   "outputs": [],
   "source": [
    "ques_sta_req = requests.get('https://api.stackexchange.com/2.3/questions?order=desc&sort=activity&site=stackoverflow')"
   ]
  },
  {
   "cell_type": "code",
   "execution_count": 41,
   "metadata": {},
   "outputs": [],
   "source": [
    "ques_js = ques_sta_req.json()"
   ]
  },
  {
   "cell_type": "code",
   "execution_count": 42,
   "metadata": {},
   "outputs": [
    {
     "data": {
      "text/plain": [
       "{'items': [{'tags': ['ubuntu', 'user-interface', 'vagrant'],\n",
       "   'owner': {'account_id': 11711528,\n",
       "    'reputation': 13,\n",
       "    'user_id': 8573319,\n",
       "    'user_type': 'registered',\n",
       "    'profile_image': 'https://lh5.googleusercontent.com/-CARGfNjSSlw/AAAAAAAAAAI/AAAAAAAAAGg/z0zN5S7SbTM/photo.jpg?sz=256',\n",
       "    'display_name': 'Radin Čern&#253;',\n",
       "    'link': 'https://stackoverflow.com/users/8573319/radin-%c4%8cern%c3%bd'},\n",
       "   'is_answered': False,\n",
       "   'view_count': 2,\n",
       "   'answer_count': 0,\n",
       "   'score': 0,\n",
       "   'last_activity_date': 1673004215,\n",
       "   'creation_date': 1673004215,\n",
       "   'question_id': 75030315,\n",
       "   'content_license': 'CC BY-SA 4.0',\n",
       "   'link': 'https://stackoverflow.com/questions/75030315/lubuntu-22-in-vagrant-with-gui',\n",
       "   'title': 'Lubuntu 22 in Vagrant with GUI'},\n",
       "  {'tags': ['javascript', 'arrays', 'sorting'],\n",
       "   'owner': {'account_id': 26853988,\n",
       "    'reputation': 1,\n",
       "    'user_id': 20438525,\n",
       "    'user_type': 'registered',\n",
       "    'profile_image': 'https://lh3.googleusercontent.com/a/ALm5wu1tFU-i9oEn_iHSECS2Oay4HahVHLDCl0sSk42J=k-s256',\n",
       "    'display_name': 'Anne Phoebe',\n",
       "    'link': 'https://stackoverflow.com/users/20438525/anne-phoebe'},\n",
       "   'is_answered': False,\n",
       "   'view_count': 1,\n",
       "   'answer_count': 0,\n",
       "   'score': 0,\n",
       "   'last_activity_date': 1673004215,\n",
       "   'creation_date': 1673004215,\n",
       "   'question_id': 75030314,\n",
       "   'content_license': 'CC BY-SA 4.0',\n",
       "   'link': 'https://stackoverflow.com/questions/75030314/assignment-and-homework-help-guidance',\n",
       "   'title': 'Assignment and Homework Help Guidance'},\n",
       "  {'tags': ['python', 'visual-studio-code', 'debugging', 'pip'],\n",
       "   'owner': {'account_id': 6410310,\n",
       "    'reputation': 103,\n",
       "    'user_id': 4970291,\n",
       "    'user_type': 'registered',\n",
       "    'profile_image': 'https://www.gravatar.com/avatar/3a8475c095eea26c57d5410d9412b3b4?s=256&d=identicon&r=PG&f=1',\n",
       "    'display_name': 'Jon S.',\n",
       "    'link': 'https://stackoverflow.com/users/4970291/jon-s'},\n",
       "   'is_answered': True,\n",
       "   'view_count': 3009,\n",
       "   'answer_count': 4,\n",
       "   'score': 7,\n",
       "   'last_activity_date': 1673004211,\n",
       "   'creation_date': 1549899657,\n",
       "   'last_edit_date': 1673004211,\n",
       "   'question_id': 54634097,\n",
       "   'content_license': 'CC BY-SA 4.0',\n",
       "   'link': 'https://stackoverflow.com/questions/54634097/using-venv-vs-code-debugging-doesnt-see-all-pip-installed-packages',\n",
       "   'title': 'Using venv - VS Code debugging doesn&#39;t see all pip installed packages'},\n",
       "  {'tags': ['android',\n",
       "    'firebase',\n",
       "    'firebase-cloud-messaging',\n",
       "    'firebase-analytics'],\n",
       "   'owner': {'account_id': 13019973,\n",
       "    'reputation': 11,\n",
       "    'user_id': 15803817,\n",
       "    'user_type': 'registered',\n",
       "    'profile_image': 'https://i.stack.imgur.com/7pJQS.jpg?s=256&g=1',\n",
       "    'display_name': 'Шурик Анваров',\n",
       "    'link': 'https://stackoverflow.com/users/15803817/%d0%a8%d1%83%d1%80%d0%b8%d0%ba-%d0%90%d0%bd%d0%b2%d0%b0%d1%80%d0%be%d0%b2'},\n",
       "   'is_answered': False,\n",
       "   'view_count': 2,\n",
       "   'answer_count': 0,\n",
       "   'score': 0,\n",
       "   'last_activity_date': 1673004211,\n",
       "   'creation_date': 1673004211,\n",
       "   'question_id': 75030313,\n",
       "   'content_license': 'CC BY-SA 4.0',\n",
       "   'link': 'https://stackoverflow.com/questions/75030313/why-data-field-in-fcm-data-api-is-empty',\n",
       "   'title': 'Why data field in FCM Data API is empty?'},\n",
       "  {'tags': ['python', 'linux', 'bash', 'shell', 'tekton'],\n",
       "   'owner': {'account_id': 12369149,\n",
       "    'reputation': 115,\n",
       "    'user_id': 9564867,\n",
       "    'user_type': 'registered',\n",
       "    'profile_image': 'https://www.gravatar.com/avatar/d27c1327d23dccaf70e5f2b4cf5ea407?s=256&d=identicon&r=PG',\n",
       "    'display_name': 'BugsBuggy',\n",
       "    'link': 'https://stackoverflow.com/users/9564867/bugsbuggy'},\n",
       "   'is_answered': True,\n",
       "   'view_count': 65,\n",
       "   'accepted_answer_id': 75030312,\n",
       "   'answer_count': 2,\n",
       "   'score': 0,\n",
       "   'last_activity_date': 1673004206,\n",
       "   'creation_date': 1669210316,\n",
       "   'last_edit_date': 1669216080,\n",
       "   'question_id': 74547609,\n",
       "   'content_license': 'CC BY-SA 4.0',\n",
       "   'link': 'https://stackoverflow.com/questions/74547609/how-to-emit-result-in-tekton-with-python-script',\n",
       "   'title': 'How to emit result in Tekton with python script?'},\n",
       "  {'tags': ['python-3.x', 'pandas', 'beautifulsoup', 'gmail-api'],\n",
       "   'owner': {'account_id': 24261712,\n",
       "    'reputation': 1,\n",
       "    'user_id': 18211195,\n",
       "    'user_type': 'registered',\n",
       "    'profile_image': 'https://www.gravatar.com/avatar/32a4f9e43947e3e4cac2d17c27b1e072?s=256&d=identicon&r=PG',\n",
       "    'display_name': 'UnKB',\n",
       "    'link': 'https://stackoverflow.com/users/18211195/unkb'},\n",
       "   'is_answered': False,\n",
       "   'view_count': 7,\n",
       "   'answer_count': 0,\n",
       "   'score': 0,\n",
       "   'last_activity_date': 1673004202,\n",
       "   'creation_date': 1672997610,\n",
       "   'last_edit_date': 1673004202,\n",
       "   'question_id': 75029157,\n",
       "   'content_license': 'CC BY-SA 4.0',\n",
       "   'link': 'https://stackoverflow.com/questions/75029157/gmail-api-body-recognition',\n",
       "   'title': 'gmail api body recognition'},\n",
       "  {'tags': ['python', 'arrays', 'list'],\n",
       "   'owner': {'account_id': 17978232,\n",
       "    'reputation': 29,\n",
       "    'user_id': 13065242,\n",
       "    'user_type': 'registered',\n",
       "    'profile_image': 'https://www.gravatar.com/avatar/12c4cae765870a4de09d5bcd08592238?s=256&d=identicon&r=PG&f=1',\n",
       "    'display_name': 'pyComali',\n",
       "    'link': 'https://stackoverflow.com/users/13065242/pycomali'},\n",
       "   'is_answered': False,\n",
       "   'view_count': 3,\n",
       "   'answer_count': 0,\n",
       "   'score': 0,\n",
       "   'last_activity_date': 1673004202,\n",
       "   'creation_date': 1673004202,\n",
       "   'question_id': 75030311,\n",
       "   'content_license': 'CC BY-SA 4.0',\n",
       "   'link': 'https://stackoverflow.com/questions/75030311/creating-array-based-on-probability-value',\n",
       "   'title': 'Creating array based on probability value'},\n",
       "  {'tags': ['encryption', 'google-cloud-messaging', 'openresty'],\n",
       "   'owner': {'account_id': 17293674,\n",
       "    'reputation': 1,\n",
       "    'user_id': 12524784,\n",
       "    'user_type': 'registered',\n",
       "    'profile_image': 'https://lh6.googleusercontent.com/-Qb1QhMU72rw/AAAAAAAAAAI/AAAAAAAAAAA/ACHi3rdsUSJQHoExHK1W_G8S_RSXc04oHQ/photo.jpg?sz=256',\n",
       "    'display_name': 'ccwang',\n",
       "    'link': 'https://stackoverflow.com/users/12524784/ccwang'},\n",
       "   'is_answered': False,\n",
       "   'view_count': 18,\n",
       "   'answer_count': 1,\n",
       "   'score': 0,\n",
       "   'last_activity_date': 1673004193,\n",
       "   'creation_date': 1672978288,\n",
       "   'question_id': 75026858,\n",
       "   'content_license': 'CC BY-SA 4.0',\n",
       "   'link': 'https://stackoverflow.com/questions/75026858/openresty-lua-resty-string-unable-to-decrypt-data-which-can-be-decrypted-by-gol',\n",
       "   'title': 'OpenResty lua-resty-string: Unable to decrypt data which can be decrypted by Golang and Python'},\n",
       "  {'tags': ['reactjs', 'antd'],\n",
       "   'owner': {'account_id': 27202938,\n",
       "    'reputation': 9,\n",
       "    'user_id': 20734933,\n",
       "    'user_type': 'registered',\n",
       "    'profile_image': 'https://lh3.googleusercontent.com/a/AEdFTp7NUuQesuaVHg3O9FzFsIOoX-uWKJsOzfJFGnRc=k-s256',\n",
       "    'display_name': 'Tejasvi Jb',\n",
       "    'link': 'https://stackoverflow.com/users/20734933/tejasvi-jb'},\n",
       "   'is_answered': False,\n",
       "   'view_count': 4,\n",
       "   'answer_count': 0,\n",
       "   'score': 0,\n",
       "   'last_activity_date': 1673004183,\n",
       "   'creation_date': 1673004183,\n",
       "   'question_id': 75030309,\n",
       "   'content_license': 'CC BY-SA 4.0',\n",
       "   'link': 'https://stackoverflow.com/questions/75030309/how-to-customize-ant-design',\n",
       "   'title': 'How to customize ant design'},\n",
       "  {'tags': ['sql', 'amazon-redshift'],\n",
       "   'owner': {'account_id': 12359503,\n",
       "    'reputation': 69,\n",
       "    'user_id': 9014210,\n",
       "    'user_type': 'registered',\n",
       "    'profile_image': 'https://www.gravatar.com/avatar/a1cd31f9dbad8c141b03c90eaff9a792?s=256&d=identicon&r=PG&f=1',\n",
       "    'display_name': 'nodev_101',\n",
       "    'link': 'https://stackoverflow.com/users/9014210/nodev-101'},\n",
       "   'is_answered': False,\n",
       "   'view_count': 13,\n",
       "   'answer_count': 1,\n",
       "   'score': 0,\n",
       "   'last_activity_date': 1673004183,\n",
       "   'creation_date': 1671797291,\n",
       "   'question_id': 74899476,\n",
       "   'content_license': 'CC BY-SA 4.0',\n",
       "   'link': 'https://stackoverflow.com/questions/74899476/need-to-find-dependent-stored-procedure-list-in-redshift',\n",
       "   'title': 'Need to find dependent stored procedure list in Redshift'},\n",
       "  {'tags': ['r', 'select', 'random', 'sample'],\n",
       "   'owner': {'account_id': 27439438,\n",
       "    'reputation': 9,\n",
       "    'user_id': 20934619,\n",
       "    'user_type': 'registered',\n",
       "    'profile_image': 'https://lh3.googleusercontent.com/a/AEdFTp5mMymYuJxYHfZqb7M6tc2kKdkVSpteL_Gc2kys=k-s256',\n",
       "    'display_name': 'Sara Selva Sanchez',\n",
       "    'link': 'https://stackoverflow.com/users/20934619/sara-selva-sanchez'},\n",
       "   'is_answered': False,\n",
       "   'view_count': 28,\n",
       "   'answer_count': 0,\n",
       "   'score': 0,\n",
       "   'last_activity_date': 1673004180,\n",
       "   'creation_date': 1672909756,\n",
       "   'last_edit_date': 1673004180,\n",
       "   'question_id': 75016061,\n",
       "   'content_license': 'CC BY-SA 4.0',\n",
       "   'link': 'https://stackoverflow.com/questions/75016061/aleatory-value-selection-in-r',\n",
       "   'title': 'Aleatory value selection in R'},\n",
       "  {'tags': ['firebase',\n",
       "    'go',\n",
       "    'google-cloud-platform',\n",
       "    'google-cloud-firestore',\n",
       "    'timestamp'],\n",
       "   'owner': {'account_id': 17215023,\n",
       "    'reputation': 102,\n",
       "    'user_id': 12463290,\n",
       "    'user_type': 'registered',\n",
       "    'profile_image': 'https://i.stack.imgur.com/9aNpy.jpg?s=256&g=1',\n",
       "    'display_name': 'Robert Mihai',\n",
       "    'link': 'https://stackoverflow.com/users/12463290/robert-mihai'},\n",
       "   'is_answered': False,\n",
       "   'view_count': 2,\n",
       "   'answer_count': 0,\n",
       "   'score': 0,\n",
       "   'last_activity_date': 1673004179,\n",
       "   'creation_date': 1673004179,\n",
       "   'question_id': 75030307,\n",
       "   'content_license': 'CC BY-SA 4.0',\n",
       "   'link': 'https://stackoverflow.com/questions/75030307/do-i-need-extra-round-trip-to-firestore-for-reading-created-updated-timestamps',\n",
       "   'title': 'Do I need extra round trip to firestore for reading Created &amp; Updated timestamps fields?'},\n",
       "  {'tags': ['php', 'arrays', 'sum', 'mapping', 'cyclic'],\n",
       "   'owner': {'account_id': 472054,\n",
       "    'reputation': 2005,\n",
       "    'user_id': 880276,\n",
       "    'user_type': 'registered',\n",
       "    'accept_rate': 90,\n",
       "    'profile_image': 'https://www.gravatar.com/avatar/d5646dbafe83fb0583bb037ad8a2a04c?s=256&d=identicon&r=PG',\n",
       "    'display_name': 'Morten Hagh',\n",
       "    'link': 'https://stackoverflow.com/users/880276/morten-hagh'},\n",
       "   'is_answered': True,\n",
       "   'view_count': 1274,\n",
       "   'accepted_answer_id': 47324330,\n",
       "   'answer_count': 4,\n",
       "   'score': 2,\n",
       "   'last_activity_date': 1673004174,\n",
       "   'creation_date': 1510818298,\n",
       "   'last_edit_date': 1673002418,\n",
       "   'question_id': 47324153,\n",
       "   'content_license': 'CC BY-SA 4.0',\n",
       "   'link': 'https://stackoverflow.com/questions/47324153/cyclical-mapping-flat-arrays-of-different-sizes-and-summing-the-values',\n",
       "   'title': 'Cyclical mapping flat arrays of different sizes and summing the values'},\n",
       "  {'tags': ['windows', 'command-line', 'mkdir', 'xcopy'],\n",
       "   'owner': {'account_id': 27451560,\n",
       "    'reputation': 1,\n",
       "    'user_id': 20943723,\n",
       "    'user_type': 'registered',\n",
       "    'profile_image': 'https://www.gravatar.com/avatar/e1a9dea493b5ce5534b6222e77d7ba46?s=256&d=identicon&r=PG',\n",
       "    'display_name': 'Punchrock',\n",
       "    'link': 'https://stackoverflow.com/users/20943723/punchrock'},\n",
       "   'is_answered': False,\n",
       "   'view_count': 2,\n",
       "   'answer_count': 0,\n",
       "   'score': 0,\n",
       "   'last_activity_date': 1673004173,\n",
       "   'creation_date': 1673004173,\n",
       "   'question_id': 75030306,\n",
       "   'content_license': 'CC BY-SA 4.0',\n",
       "   'link': 'https://stackoverflow.com/questions/75030306/how-to-use-xcopy-to-copy-files-from-memory-card-to-a-newly-created-directory-bas',\n",
       "   'title': 'How to use XCOPY to copy files from memory card to a newly created directory based on the date the file was taken'},\n",
       "  {'tags': ['java', 'spring', 'api', 'security', 'boot'],\n",
       "   'owner': {'account_id': 16152367,\n",
       "    'reputation': 1,\n",
       "    'user_id': 11660450,\n",
       "    'user_type': 'registered',\n",
       "    'profile_image': 'https://www.gravatar.com/avatar/fd18af7f20b5642d041b23c851ff0464?s=256&d=identicon&r=PG&f=1',\n",
       "    'display_name': 'canguness',\n",
       "    'link': 'https://stackoverflow.com/users/11660450/canguness'},\n",
       "   'is_answered': False,\n",
       "   'view_count': 2,\n",
       "   'answer_count': 0,\n",
       "   'score': 0,\n",
       "   'last_activity_date': 1673004172,\n",
       "   'creation_date': 1673004172,\n",
       "   'question_id': 75030305,\n",
       "   'content_license': 'CC BY-SA 4.0',\n",
       "   'link': 'https://stackoverflow.com/questions/75030305/when-i-request-a-request-it-returns-401-unauthorized-for-each-request-in-the-se',\n",
       "   'title': 'When I request a request, it returns 401 unauthorized for each request in the security section'},\n",
       "  {'tags': ['azure', 'azure-monitor-workbooks'],\n",
       "   'owner': {'account_id': 27428501,\n",
       "    'reputation': 1,\n",
       "    'user_id': 20925588,\n",
       "    'user_type': 'registered',\n",
       "    'profile_image': 'https://www.gravatar.com/avatar/de8518f11b2e4e8f6574d274c842ab2c?s=256&d=identicon&r=PG',\n",
       "    'display_name': 'Pravallika',\n",
       "    'link': 'https://stackoverflow.com/users/20925588/pravallika'},\n",
       "   'is_answered': False,\n",
       "   'view_count': 19,\n",
       "   'answer_count': 1,\n",
       "   'score': 0,\n",
       "   'last_activity_date': 1673004169,\n",
       "   'creation_date': 1672820076,\n",
       "   'last_edit_date': 1673004169,\n",
       "   'question_id': 75002607,\n",
       "   'content_license': 'CC BY-SA 4.0',\n",
       "   'link': 'https://stackoverflow.com/questions/75002607/custom-timeframe-date-range-in-azure-workbooks-as-json-body',\n",
       "   'title': 'Custom timeframe date range in azure workbooks as json body'},\n",
       "  {'tags': ['google-cloud-functions',\n",
       "    'google-cloud-storage',\n",
       "    'fastapi',\n",
       "    'google-cloud-run'],\n",
       "   'owner': {'account_id': 1627217,\n",
       "    'reputation': 635,\n",
       "    'user_id': 1502505,\n",
       "    'user_type': 'registered',\n",
       "    'profile_image': 'https://www.gravatar.com/avatar/e479f804e29e9b4885836a0aa626c8c0?s=256&d=identicon&r=PG',\n",
       "    'display_name': 'user1502505',\n",
       "    'link': 'https://stackoverflow.com/users/1502505/user1502505'},\n",
       "   'is_answered': False,\n",
       "   'view_count': 21,\n",
       "   'answer_count': 1,\n",
       "   'score': 0,\n",
       "   'last_activity_date': 1673004168,\n",
       "   'creation_date': 1672939693,\n",
       "   'last_edit_date': 1672941812,\n",
       "   'question_id': 75022225,\n",
       "   'content_license': 'CC BY-SA 4.0',\n",
       "   'link': 'https://stackoverflow.com/questions/75022225/python-return-google-cloud-storage-return-a-file',\n",
       "   'title': 'Python - Return Google Cloud Storage - Return a File'},\n",
       "  {'tags': ['python', 'django', 'django-admin'],\n",
       "   'owner': {'account_id': 25815084,\n",
       "    'reputation': 35,\n",
       "    'user_id': 19555184,\n",
       "    'user_type': 'registered',\n",
       "    'profile_image': 'https://lh3.googleusercontent.com/a/AItbvmnU_vDRoSkWpsJGU0N2Vl36ymhI0HzMN4X0GCxJR1g=k-s256',\n",
       "    'display_name': 'Sarthak Lamba',\n",
       "    'link': 'https://stackoverflow.com/users/19555184/sarthak-lamba'},\n",
       "   'is_answered': False,\n",
       "   'view_count': 2,\n",
       "   'answer_count': 0,\n",
       "   'score': 0,\n",
       "   'last_activity_date': 1673004165,\n",
       "   'creation_date': 1673004165,\n",
       "   'question_id': 75030303,\n",
       "   'content_license': 'CC BY-SA 4.0',\n",
       "   'link': 'https://stackoverflow.com/questions/75030303/django-disable-editing-via-view-button',\n",
       "   'title': 'Django - Disable editing via view button'},\n",
       "  {'tags': ['sql-server', 'vb.net'],\n",
       "   'owner': {'account_id': 10322701,\n",
       "    'reputation': 133,\n",
       "    'user_id': 7615049,\n",
       "    'user_type': 'registered',\n",
       "    'profile_image': 'https://i.stack.imgur.com/eIWlv.jpg?s=256&g=1',\n",
       "    'display_name': 'Clamarc',\n",
       "    'link': 'https://stackoverflow.com/users/7615049/clamarc'},\n",
       "   'is_answered': False,\n",
       "   'view_count': 2,\n",
       "   'answer_count': 0,\n",
       "   'score': 0,\n",
       "   'last_activity_date': 1673004163,\n",
       "   'creation_date': 1673004163,\n",
       "   'question_id': 75030302,\n",
       "   'content_license': 'CC BY-SA 4.0',\n",
       "   'link': 'https://stackoverflow.com/questions/75030302/compare-field-of-a-table-with-images-in-a-folder-on-server-vb-net-sql-server',\n",
       "   'title': 'Compare Field of a Table with Images in a Folder on Server - VB.NET/SQL Server'},\n",
       "  {'tags': ['ruby-on-rails', 'ruby', 'routes'],\n",
       "   'owner': {'account_id': 3474840,\n",
       "    'reputation': 2548,\n",
       "    'user_id': 2908330,\n",
       "    'user_type': 'registered',\n",
       "    'accept_rate': 43,\n",
       "    'profile_image': 'https://i.stack.imgur.com/Q3BG7.png?s=256&g=1',\n",
       "    'display_name': 'soltex',\n",
       "    'link': 'https://stackoverflow.com/users/2908330/soltex'},\n",
       "   'is_answered': False,\n",
       "   'view_count': 2,\n",
       "   'answer_count': 0,\n",
       "   'score': 0,\n",
       "   'last_activity_date': 1673004160,\n",
       "   'creation_date': 1673004160,\n",
       "   'question_id': 75030301,\n",
       "   'content_license': 'CC BY-SA 4.0',\n",
       "   'link': 'https://stackoverflow.com/questions/75030301/routes-match-path-does-not-catch-post',\n",
       "   'title': 'routes: match &#39;*path&#39; does not catch POST /'},\n",
       "  {'tags': ['reactjs', 'material-ui', 'react-material'],\n",
       "   'owner': {'account_id': 25397717,\n",
       "    'reputation': 1,\n",
       "    'user_id': 19207736,\n",
       "    'user_type': 'registered',\n",
       "    'profile_image': 'https://www.gravatar.com/avatar/e3113c2205702b5f0e4e09e98a54d97f?s=256&d=identicon&r=PG',\n",
       "    'display_name': 'ziggyboi13',\n",
       "    'link': 'https://stackoverflow.com/users/19207736/ziggyboi13'},\n",
       "   'is_answered': False,\n",
       "   'view_count': 3,\n",
       "   'answer_count': 0,\n",
       "   'score': 0,\n",
       "   'last_activity_date': 1673004159,\n",
       "   'creation_date': 1673004159,\n",
       "   'question_id': 75030300,\n",
       "   'content_license': 'CC BY-SA 4.0',\n",
       "   'link': 'https://stackoverflow.com/questions/75030300/how-to-fix-buttongroup-bleeding-out-of-grid-container-material-ui',\n",
       "   'title': 'How to fix ButtonGroup bleeding out of Grid container Material UI'},\n",
       "  {'tags': ['mvvm', 'menubar', 'winui', 'mru'],\n",
       "   'owner': {'account_id': 11774739,\n",
       "    'reputation': 1,\n",
       "    'user_id': 20943459,\n",
       "    'user_type': 'registered',\n",
       "    'profile_image': 'https://www.gravatar.com/avatar/ecf48660390c865afbf808d567f5e5fc?s=256&d=identicon&r=PG&f=1',\n",
       "    'display_name': 'Zulu',\n",
       "    'link': 'https://stackoverflow.com/users/20943459/zulu'},\n",
       "   'is_answered': False,\n",
       "   'view_count': 2,\n",
       "   'answer_count': 0,\n",
       "   'score': 0,\n",
       "   'last_activity_date': 1673004149,\n",
       "   'creation_date': 1673004149,\n",
       "   'question_id': 75030299,\n",
       "   'content_license': 'CC BY-SA 4.0',\n",
       "   'link': 'https://stackoverflow.com/questions/75030299/create-winui3-mvvm-most-recently-used-mru-list-in-menu-bar',\n",
       "   'title': 'Create WinUI3/MVVM Most Recently Used (MRU) List in Menu Bar'},\n",
       "  {'tags': ['powershell'],\n",
       "   'owner': {'account_id': 7080261,\n",
       "    'reputation': 357,\n",
       "    'user_id': 18253602,\n",
       "    'user_type': 'registered',\n",
       "    'profile_image': 'https://graph.facebook.com/10153645477723104/picture?type=large',\n",
       "    'display_name': 'Bandit',\n",
       "    'link': 'https://stackoverflow.com/users/18253602/bandit'},\n",
       "   'is_answered': False,\n",
       "   'view_count': 3,\n",
       "   'answer_count': 0,\n",
       "   'score': 0,\n",
       "   'last_activity_date': 1673004143,\n",
       "   'creation_date': 1673004143,\n",
       "   'question_id': 75030298,\n",
       "   'content_license': 'CC BY-SA 4.0',\n",
       "   'link': 'https://stackoverflow.com/questions/75030298/deleting-folders-with-powershell-recursively-issue',\n",
       "   'title': 'Deleting folders with Powershell recursively issue'},\n",
       "  {'tags': ['java', 'postgresql', 'spring-boot', 'sql-order-by'],\n",
       "   'owner': {'account_id': 23377374,\n",
       "    'reputation': 11,\n",
       "    'user_id': 17446164,\n",
       "    'user_type': 'registered',\n",
       "    'profile_image': 'https://lh3.googleusercontent.com/a-/AOh14GhBSujsw-BQNs1HOXbSQige1f-o6rLAzoifmEH1=k-s256',\n",
       "    'display_name': 'Fazeel Usmani',\n",
       "    'link': 'https://stackoverflow.com/users/17446164/fazeel-usmani'},\n",
       "   'is_answered': False,\n",
       "   'view_count': 47,\n",
       "   'answer_count': 3,\n",
       "   'score': 1,\n",
       "   'last_activity_date': 1673004143,\n",
       "   'creation_date': 1672910157,\n",
       "   'question_id': 75016144,\n",
       "   'content_license': 'CC BY-SA 4.0',\n",
       "   'link': 'https://stackoverflow.com/questions/75016144/i-want-to-user-orderby-by-giving-specific-order-of-role',\n",
       "   'title': 'I want to user orderBy by giving specific order of role'},\n",
       "  {'tags': ['mysql', 'sql'],\n",
       "   'owner': {'account_id': 6495720,\n",
       "    'reputation': 17,\n",
       "    'user_id': 5028394,\n",
       "    'user_type': 'registered',\n",
       "    'accept_rate': 67,\n",
       "    'profile_image': 'https://www.gravatar.com/avatar/926ad76cfb717606106ea94d151d1161?s=256&d=identicon&r=PG&f=1',\n",
       "    'display_name': 'Εμμανουήλ Βαρέσης',\n",
       "    'link': 'https://stackoverflow.com/users/5028394/%ce%95%ce%bc%ce%bc%ce%b1%ce%bd%ce%bf%cf%85%ce%ae%ce%bb-%ce%92%ce%b1%cf%81%ce%ad%cf%83%ce%b7%cf%82'},\n",
       "   'is_answered': False,\n",
       "   'view_count': 4,\n",
       "   'answer_count': 0,\n",
       "   'score': 0,\n",
       "   'last_activity_date': 1673004141,\n",
       "   'creation_date': 1673004141,\n",
       "   'question_id': 75030296,\n",
       "   'content_license': 'CC BY-SA 4.0',\n",
       "   'link': 'https://stackoverflow.com/questions/75030296/sql-question-for-two-tables-join-and-group-by',\n",
       "   'title': 'sql question for two tables join and group by'},\n",
       "  {'tags': ['javascript', 'google-chrome', 'w3c'],\n",
       "   'owner': {'account_id': 5455659,\n",
       "    'reputation': 12707,\n",
       "    'user_id': 4339170,\n",
       "    'user_type': 'registered',\n",
       "    'accept_rate': 40,\n",
       "    'profile_image': 'https://i.stack.imgur.com/xdR3z.png?s=256&g=1',\n",
       "    'display_name': 'CoderPi',\n",
       "    'link': 'https://stackoverflow.com/users/4339170/coderpi'},\n",
       "   'is_answered': False,\n",
       "   'view_count': 4,\n",
       "   'answer_count': 0,\n",
       "   'score': 0,\n",
       "   'last_activity_date': 1673004137,\n",
       "   'creation_date': 1673004137,\n",
       "   'question_id': 75030295,\n",
       "   'content_license': 'CC BY-SA 4.0',\n",
       "   'link': 'https://stackoverflow.com/questions/75030295/pointer-events-dont-support-simultaneous-mouse-buttons',\n",
       "   'title': 'Pointer events don&#39;t support simultaneous mouse buttons'},\n",
       "  {'tags': ['google-api',\n",
       "    'gmail',\n",
       "    'google-oauth',\n",
       "    'gmail-api',\n",
       "    'google-developers-console'],\n",
       "   'owner': {'account_id': 13602849,\n",
       "    'reputation': 13,\n",
       "    'user_id': 9812997,\n",
       "    'user_type': 'registered',\n",
       "    'profile_image': 'https://lh3.googleusercontent.com/-B7dzwBCaC2s/AAAAAAAAAAI/AAAAAAAAAFI/LMOTYZdFniQ/photo.jpg?sz=256',\n",
       "    'display_name': 'D L',\n",
       "    'link': 'https://stackoverflow.com/users/9812997/d-l'},\n",
       "   'is_answered': False,\n",
       "   'view_count': 17,\n",
       "   'answer_count': 1,\n",
       "   'score': 1,\n",
       "   'last_activity_date': 1673004132,\n",
       "   'creation_date': 1673000082,\n",
       "   'last_edit_date': 1673004132,\n",
       "   'question_id': 75029589,\n",
       "   'content_license': 'CC BY-SA 4.0',\n",
       "   'link': 'https://stackoverflow.com/questions/75029589/how-to-check-google-smtp-current-remaining-quota',\n",
       "   'title': 'How to check Google SMTP current remaining quota?'},\n",
       "  {'tags': ['python-3.x',\n",
       "    'selenium',\n",
       "    'selenium-webdriver',\n",
       "    'web-scraping',\n",
       "    'webdriver'],\n",
       "   'owner': {'account_id': 19039970,\n",
       "    'reputation': 21,\n",
       "    'user_id': 13900304,\n",
       "    'user_type': 'registered',\n",
       "    'profile_image': 'https://www.gravatar.com/avatar/060230474ff66b66056264cdefa9b571?s=256&d=identicon&r=PG&f=1',\n",
       "    'display_name': 'Nikarun',\n",
       "    'link': 'https://stackoverflow.com/users/13900304/nikarun'},\n",
       "   'is_answered': False,\n",
       "   'view_count': 5,\n",
       "   'answer_count': 0,\n",
       "   'score': 0,\n",
       "   'last_activity_date': 1673004113,\n",
       "   'creation_date': 1673004113,\n",
       "   'question_id': 75030293,\n",
       "   'content_license': 'CC BY-SA 4.0',\n",
       "   'link': 'https://stackoverflow.com/questions/75030293/scrapping-in-python-using-selenium',\n",
       "   'title': 'scrapping in python using selenium'},\n",
       "  {'tags': ['python',\n",
       "    'image',\n",
       "    'image-processing',\n",
       "    'computer-vision',\n",
       "    'python-imaging-library'],\n",
       "   'owner': {'account_id': 18294503,\n",
       "    'reputation': 62,\n",
       "    'user_id': 13320688,\n",
       "    'user_type': 'registered',\n",
       "    'profile_image': 'https://www.gravatar.com/avatar/bd51db09e5a609ebab806f87355a0993?s=256&d=identicon&r=PG&f=1',\n",
       "    'display_name': 'Rico227',\n",
       "    'link': 'https://stackoverflow.com/users/13320688/rico227'},\n",
       "   'is_answered': False,\n",
       "   'view_count': 18,\n",
       "   'answer_count': 0,\n",
       "   'score': 0,\n",
       "   'last_activity_date': 1673004106,\n",
       "   'creation_date': 1672963504,\n",
       "   'last_edit_date': 1673004106,\n",
       "   'question_id': 75025669,\n",
       "   'content_license': 'CC BY-SA 4.0',\n",
       "   'link': 'https://stackoverflow.com/questions/75025669/how-to-transform-an-image-in-3d-without-cutting-off-parts-of-the-image',\n",
       "   'title': 'How to transform an image in 3d without cutting off parts of the image'},\n",
       "  {'tags': ['csv', 'awk'],\n",
       "   'owner': {'account_id': 2035639,\n",
       "    'reputation': 734,\n",
       "    'user_id': 1818059,\n",
       "    'user_type': 'registered',\n",
       "    'profile_image': 'https://i.stack.imgur.com/r4K6q.png?s=256&g=1',\n",
       "    'display_name': 'MyICQ',\n",
       "    'link': 'https://stackoverflow.com/users/1818059/myicq'},\n",
       "   'is_answered': False,\n",
       "   'view_count': 8,\n",
       "   'answer_count': 1,\n",
       "   'score': 0,\n",
       "   'last_activity_date': 1673004106,\n",
       "   'creation_date': 1673003753,\n",
       "   'question_id': 75030240,\n",
       "   'content_license': 'CC BY-SA 4.0',\n",
       "   'link': 'https://stackoverflow.com/questions/75030240/awk-convert-single-column-to-multiple-ensuring-column-count-on-last-line',\n",
       "   'title': 'AWK: convert single column to multiple, ensuring column count on last line'}],\n",
       " 'has_more': True,\n",
       " 'quota_max': 300,\n",
       " 'quota_remaining': 295}"
      ]
     },
     "execution_count": 42,
     "metadata": {},
     "output_type": "execute_result"
    }
   ],
   "source": [
    "ques_js"
   ]
  },
  {
   "cell_type": "code",
   "execution_count": 43,
   "metadata": {},
   "outputs": [],
   "source": [
    "ques_dist = ques_js['items']"
   ]
  },
  {
   "cell_type": "code",
   "execution_count": 44,
   "metadata": {},
   "outputs": [],
   "source": [
    "ques_df = pd.DataFrame(ques_dist)"
   ]
  },
  {
   "cell_type": "code",
   "execution_count": 45,
   "metadata": {},
   "outputs": [
    {
     "data": {
      "text/html": [
       "<div>\n",
       "<style scoped>\n",
       "    .dataframe tbody tr th:only-of-type {\n",
       "        vertical-align: middle;\n",
       "    }\n",
       "\n",
       "    .dataframe tbody tr th {\n",
       "        vertical-align: top;\n",
       "    }\n",
       "\n",
       "    .dataframe thead th {\n",
       "        text-align: right;\n",
       "    }\n",
       "</style>\n",
       "<table border=\"1\" class=\"dataframe\">\n",
       "  <thead>\n",
       "    <tr style=\"text-align: right;\">\n",
       "      <th></th>\n",
       "      <th>tags</th>\n",
       "      <th>owner</th>\n",
       "      <th>is_answered</th>\n",
       "      <th>view_count</th>\n",
       "      <th>answer_count</th>\n",
       "      <th>score</th>\n",
       "      <th>last_activity_date</th>\n",
       "      <th>creation_date</th>\n",
       "      <th>question_id</th>\n",
       "      <th>content_license</th>\n",
       "      <th>link</th>\n",
       "      <th>title</th>\n",
       "      <th>last_edit_date</th>\n",
       "      <th>accepted_answer_id</th>\n",
       "    </tr>\n",
       "  </thead>\n",
       "  <tbody>\n",
       "    <tr>\n",
       "      <th>0</th>\n",
       "      <td>[ubuntu, user-interface, vagrant]</td>\n",
       "      <td>{'account_id': 11711528, 'reputation': 13, 'us...</td>\n",
       "      <td>False</td>\n",
       "      <td>2</td>\n",
       "      <td>0</td>\n",
       "      <td>0</td>\n",
       "      <td>1673004215</td>\n",
       "      <td>1673004215</td>\n",
       "      <td>75030315</td>\n",
       "      <td>CC BY-SA 4.0</td>\n",
       "      <td>https://stackoverflow.com/questions/75030315/l...</td>\n",
       "      <td>Lubuntu 22 in Vagrant with GUI</td>\n",
       "      <td>NaN</td>\n",
       "      <td>NaN</td>\n",
       "    </tr>\n",
       "    <tr>\n",
       "      <th>1</th>\n",
       "      <td>[javascript, arrays, sorting]</td>\n",
       "      <td>{'account_id': 26853988, 'reputation': 1, 'use...</td>\n",
       "      <td>False</td>\n",
       "      <td>1</td>\n",
       "      <td>0</td>\n",
       "      <td>0</td>\n",
       "      <td>1673004215</td>\n",
       "      <td>1673004215</td>\n",
       "      <td>75030314</td>\n",
       "      <td>CC BY-SA 4.0</td>\n",
       "      <td>https://stackoverflow.com/questions/75030314/a...</td>\n",
       "      <td>Assignment and Homework Help Guidance</td>\n",
       "      <td>NaN</td>\n",
       "      <td>NaN</td>\n",
       "    </tr>\n",
       "    <tr>\n",
       "      <th>2</th>\n",
       "      <td>[python, visual-studio-code, debugging, pip]</td>\n",
       "      <td>{'account_id': 6410310, 'reputation': 103, 'us...</td>\n",
       "      <td>True</td>\n",
       "      <td>3009</td>\n",
       "      <td>4</td>\n",
       "      <td>7</td>\n",
       "      <td>1673004211</td>\n",
       "      <td>1549899657</td>\n",
       "      <td>54634097</td>\n",
       "      <td>CC BY-SA 4.0</td>\n",
       "      <td>https://stackoverflow.com/questions/54634097/u...</td>\n",
       "      <td>Using venv - VS Code debugging doesn&amp;#39;t see...</td>\n",
       "      <td>1.673004e+09</td>\n",
       "      <td>NaN</td>\n",
       "    </tr>\n",
       "    <tr>\n",
       "      <th>3</th>\n",
       "      <td>[android, firebase, firebase-cloud-messaging, ...</td>\n",
       "      <td>{'account_id': 13019973, 'reputation': 11, 'us...</td>\n",
       "      <td>False</td>\n",
       "      <td>2</td>\n",
       "      <td>0</td>\n",
       "      <td>0</td>\n",
       "      <td>1673004211</td>\n",
       "      <td>1673004211</td>\n",
       "      <td>75030313</td>\n",
       "      <td>CC BY-SA 4.0</td>\n",
       "      <td>https://stackoverflow.com/questions/75030313/w...</td>\n",
       "      <td>Why data field in FCM Data API is empty?</td>\n",
       "      <td>NaN</td>\n",
       "      <td>NaN</td>\n",
       "    </tr>\n",
       "    <tr>\n",
       "      <th>4</th>\n",
       "      <td>[python, linux, bash, shell, tekton]</td>\n",
       "      <td>{'account_id': 12369149, 'reputation': 115, 'u...</td>\n",
       "      <td>True</td>\n",
       "      <td>65</td>\n",
       "      <td>2</td>\n",
       "      <td>0</td>\n",
       "      <td>1673004206</td>\n",
       "      <td>1669210316</td>\n",
       "      <td>74547609</td>\n",
       "      <td>CC BY-SA 4.0</td>\n",
       "      <td>https://stackoverflow.com/questions/74547609/h...</td>\n",
       "      <td>How to emit result in Tekton with python script?</td>\n",
       "      <td>1.669216e+09</td>\n",
       "      <td>75030312.0</td>\n",
       "    </tr>\n",
       "    <tr>\n",
       "      <th>5</th>\n",
       "      <td>[python-3.x, pandas, beautifulsoup, gmail-api]</td>\n",
       "      <td>{'account_id': 24261712, 'reputation': 1, 'use...</td>\n",
       "      <td>False</td>\n",
       "      <td>7</td>\n",
       "      <td>0</td>\n",
       "      <td>0</td>\n",
       "      <td>1673004202</td>\n",
       "      <td>1672997610</td>\n",
       "      <td>75029157</td>\n",
       "      <td>CC BY-SA 4.0</td>\n",
       "      <td>https://stackoverflow.com/questions/75029157/g...</td>\n",
       "      <td>gmail api body recognition</td>\n",
       "      <td>1.673004e+09</td>\n",
       "      <td>NaN</td>\n",
       "    </tr>\n",
       "    <tr>\n",
       "      <th>6</th>\n",
       "      <td>[python, arrays, list]</td>\n",
       "      <td>{'account_id': 17978232, 'reputation': 29, 'us...</td>\n",
       "      <td>False</td>\n",
       "      <td>3</td>\n",
       "      <td>0</td>\n",
       "      <td>0</td>\n",
       "      <td>1673004202</td>\n",
       "      <td>1673004202</td>\n",
       "      <td>75030311</td>\n",
       "      <td>CC BY-SA 4.0</td>\n",
       "      <td>https://stackoverflow.com/questions/75030311/c...</td>\n",
       "      <td>Creating array based on probability value</td>\n",
       "      <td>NaN</td>\n",
       "      <td>NaN</td>\n",
       "    </tr>\n",
       "    <tr>\n",
       "      <th>7</th>\n",
       "      <td>[encryption, google-cloud-messaging, openresty]</td>\n",
       "      <td>{'account_id': 17293674, 'reputation': 1, 'use...</td>\n",
       "      <td>False</td>\n",
       "      <td>18</td>\n",
       "      <td>1</td>\n",
       "      <td>0</td>\n",
       "      <td>1673004193</td>\n",
       "      <td>1672978288</td>\n",
       "      <td>75026858</td>\n",
       "      <td>CC BY-SA 4.0</td>\n",
       "      <td>https://stackoverflow.com/questions/75026858/o...</td>\n",
       "      <td>OpenResty lua-resty-string: Unable to decrypt ...</td>\n",
       "      <td>NaN</td>\n",
       "      <td>NaN</td>\n",
       "    </tr>\n",
       "    <tr>\n",
       "      <th>8</th>\n",
       "      <td>[reactjs, antd]</td>\n",
       "      <td>{'account_id': 27202938, 'reputation': 9, 'use...</td>\n",
       "      <td>False</td>\n",
       "      <td>4</td>\n",
       "      <td>0</td>\n",
       "      <td>0</td>\n",
       "      <td>1673004183</td>\n",
       "      <td>1673004183</td>\n",
       "      <td>75030309</td>\n",
       "      <td>CC BY-SA 4.0</td>\n",
       "      <td>https://stackoverflow.com/questions/75030309/h...</td>\n",
       "      <td>How to customize ant design</td>\n",
       "      <td>NaN</td>\n",
       "      <td>NaN</td>\n",
       "    </tr>\n",
       "    <tr>\n",
       "      <th>9</th>\n",
       "      <td>[sql, amazon-redshift]</td>\n",
       "      <td>{'account_id': 12359503, 'reputation': 69, 'us...</td>\n",
       "      <td>False</td>\n",
       "      <td>13</td>\n",
       "      <td>1</td>\n",
       "      <td>0</td>\n",
       "      <td>1673004183</td>\n",
       "      <td>1671797291</td>\n",
       "      <td>74899476</td>\n",
       "      <td>CC BY-SA 4.0</td>\n",
       "      <td>https://stackoverflow.com/questions/74899476/n...</td>\n",
       "      <td>Need to find dependent stored procedure list i...</td>\n",
       "      <td>NaN</td>\n",
       "      <td>NaN</td>\n",
       "    </tr>\n",
       "    <tr>\n",
       "      <th>10</th>\n",
       "      <td>[r, select, random, sample]</td>\n",
       "      <td>{'account_id': 27439438, 'reputation': 9, 'use...</td>\n",
       "      <td>False</td>\n",
       "      <td>28</td>\n",
       "      <td>0</td>\n",
       "      <td>0</td>\n",
       "      <td>1673004180</td>\n",
       "      <td>1672909756</td>\n",
       "      <td>75016061</td>\n",
       "      <td>CC BY-SA 4.0</td>\n",
       "      <td>https://stackoverflow.com/questions/75016061/a...</td>\n",
       "      <td>Aleatory value selection in R</td>\n",
       "      <td>1.673004e+09</td>\n",
       "      <td>NaN</td>\n",
       "    </tr>\n",
       "    <tr>\n",
       "      <th>11</th>\n",
       "      <td>[firebase, go, google-cloud-platform, google-c...</td>\n",
       "      <td>{'account_id': 17215023, 'reputation': 102, 'u...</td>\n",
       "      <td>False</td>\n",
       "      <td>2</td>\n",
       "      <td>0</td>\n",
       "      <td>0</td>\n",
       "      <td>1673004179</td>\n",
       "      <td>1673004179</td>\n",
       "      <td>75030307</td>\n",
       "      <td>CC BY-SA 4.0</td>\n",
       "      <td>https://stackoverflow.com/questions/75030307/d...</td>\n",
       "      <td>Do I need extra round trip to firestore for re...</td>\n",
       "      <td>NaN</td>\n",
       "      <td>NaN</td>\n",
       "    </tr>\n",
       "    <tr>\n",
       "      <th>12</th>\n",
       "      <td>[php, arrays, sum, mapping, cyclic]</td>\n",
       "      <td>{'account_id': 472054, 'reputation': 2005, 'us...</td>\n",
       "      <td>True</td>\n",
       "      <td>1274</td>\n",
       "      <td>4</td>\n",
       "      <td>2</td>\n",
       "      <td>1673004174</td>\n",
       "      <td>1510818298</td>\n",
       "      <td>47324153</td>\n",
       "      <td>CC BY-SA 4.0</td>\n",
       "      <td>https://stackoverflow.com/questions/47324153/c...</td>\n",
       "      <td>Cyclical mapping flat arrays of different size...</td>\n",
       "      <td>1.673002e+09</td>\n",
       "      <td>47324330.0</td>\n",
       "    </tr>\n",
       "    <tr>\n",
       "      <th>13</th>\n",
       "      <td>[windows, command-line, mkdir, xcopy]</td>\n",
       "      <td>{'account_id': 27451560, 'reputation': 1, 'use...</td>\n",
       "      <td>False</td>\n",
       "      <td>2</td>\n",
       "      <td>0</td>\n",
       "      <td>0</td>\n",
       "      <td>1673004173</td>\n",
       "      <td>1673004173</td>\n",
       "      <td>75030306</td>\n",
       "      <td>CC BY-SA 4.0</td>\n",
       "      <td>https://stackoverflow.com/questions/75030306/h...</td>\n",
       "      <td>How to use XCOPY to copy files from memory car...</td>\n",
       "      <td>NaN</td>\n",
       "      <td>NaN</td>\n",
       "    </tr>\n",
       "    <tr>\n",
       "      <th>14</th>\n",
       "      <td>[java, spring, api, security, boot]</td>\n",
       "      <td>{'account_id': 16152367, 'reputation': 1, 'use...</td>\n",
       "      <td>False</td>\n",
       "      <td>2</td>\n",
       "      <td>0</td>\n",
       "      <td>0</td>\n",
       "      <td>1673004172</td>\n",
       "      <td>1673004172</td>\n",
       "      <td>75030305</td>\n",
       "      <td>CC BY-SA 4.0</td>\n",
       "      <td>https://stackoverflow.com/questions/75030305/w...</td>\n",
       "      <td>When I request a request, it returns 401 unaut...</td>\n",
       "      <td>NaN</td>\n",
       "      <td>NaN</td>\n",
       "    </tr>\n",
       "    <tr>\n",
       "      <th>15</th>\n",
       "      <td>[azure, azure-monitor-workbooks]</td>\n",
       "      <td>{'account_id': 27428501, 'reputation': 1, 'use...</td>\n",
       "      <td>False</td>\n",
       "      <td>19</td>\n",
       "      <td>1</td>\n",
       "      <td>0</td>\n",
       "      <td>1673004169</td>\n",
       "      <td>1672820076</td>\n",
       "      <td>75002607</td>\n",
       "      <td>CC BY-SA 4.0</td>\n",
       "      <td>https://stackoverflow.com/questions/75002607/c...</td>\n",
       "      <td>Custom timeframe date range in azure workbooks...</td>\n",
       "      <td>1.673004e+09</td>\n",
       "      <td>NaN</td>\n",
       "    </tr>\n",
       "    <tr>\n",
       "      <th>16</th>\n",
       "      <td>[google-cloud-functions, google-cloud-storage,...</td>\n",
       "      <td>{'account_id': 1627217, 'reputation': 635, 'us...</td>\n",
       "      <td>False</td>\n",
       "      <td>21</td>\n",
       "      <td>1</td>\n",
       "      <td>0</td>\n",
       "      <td>1673004168</td>\n",
       "      <td>1672939693</td>\n",
       "      <td>75022225</td>\n",
       "      <td>CC BY-SA 4.0</td>\n",
       "      <td>https://stackoverflow.com/questions/75022225/p...</td>\n",
       "      <td>Python - Return Google Cloud Storage - Return ...</td>\n",
       "      <td>1.672942e+09</td>\n",
       "      <td>NaN</td>\n",
       "    </tr>\n",
       "    <tr>\n",
       "      <th>17</th>\n",
       "      <td>[python, django, django-admin]</td>\n",
       "      <td>{'account_id': 25815084, 'reputation': 35, 'us...</td>\n",
       "      <td>False</td>\n",
       "      <td>2</td>\n",
       "      <td>0</td>\n",
       "      <td>0</td>\n",
       "      <td>1673004165</td>\n",
       "      <td>1673004165</td>\n",
       "      <td>75030303</td>\n",
       "      <td>CC BY-SA 4.0</td>\n",
       "      <td>https://stackoverflow.com/questions/75030303/d...</td>\n",
       "      <td>Django - Disable editing via view button</td>\n",
       "      <td>NaN</td>\n",
       "      <td>NaN</td>\n",
       "    </tr>\n",
       "    <tr>\n",
       "      <th>18</th>\n",
       "      <td>[sql-server, vb.net]</td>\n",
       "      <td>{'account_id': 10322701, 'reputation': 133, 'u...</td>\n",
       "      <td>False</td>\n",
       "      <td>2</td>\n",
       "      <td>0</td>\n",
       "      <td>0</td>\n",
       "      <td>1673004163</td>\n",
       "      <td>1673004163</td>\n",
       "      <td>75030302</td>\n",
       "      <td>CC BY-SA 4.0</td>\n",
       "      <td>https://stackoverflow.com/questions/75030302/c...</td>\n",
       "      <td>Compare Field of a Table with Images in a Fold...</td>\n",
       "      <td>NaN</td>\n",
       "      <td>NaN</td>\n",
       "    </tr>\n",
       "    <tr>\n",
       "      <th>19</th>\n",
       "      <td>[ruby-on-rails, ruby, routes]</td>\n",
       "      <td>{'account_id': 3474840, 'reputation': 2548, 'u...</td>\n",
       "      <td>False</td>\n",
       "      <td>2</td>\n",
       "      <td>0</td>\n",
       "      <td>0</td>\n",
       "      <td>1673004160</td>\n",
       "      <td>1673004160</td>\n",
       "      <td>75030301</td>\n",
       "      <td>CC BY-SA 4.0</td>\n",
       "      <td>https://stackoverflow.com/questions/75030301/r...</td>\n",
       "      <td>routes: match &amp;#39;*path&amp;#39; does not catch P...</td>\n",
       "      <td>NaN</td>\n",
       "      <td>NaN</td>\n",
       "    </tr>\n",
       "    <tr>\n",
       "      <th>20</th>\n",
       "      <td>[reactjs, material-ui, react-material]</td>\n",
       "      <td>{'account_id': 25397717, 'reputation': 1, 'use...</td>\n",
       "      <td>False</td>\n",
       "      <td>3</td>\n",
       "      <td>0</td>\n",
       "      <td>0</td>\n",
       "      <td>1673004159</td>\n",
       "      <td>1673004159</td>\n",
       "      <td>75030300</td>\n",
       "      <td>CC BY-SA 4.0</td>\n",
       "      <td>https://stackoverflow.com/questions/75030300/h...</td>\n",
       "      <td>How to fix ButtonGroup bleeding out of Grid co...</td>\n",
       "      <td>NaN</td>\n",
       "      <td>NaN</td>\n",
       "    </tr>\n",
       "    <tr>\n",
       "      <th>21</th>\n",
       "      <td>[mvvm, menubar, winui, mru]</td>\n",
       "      <td>{'account_id': 11774739, 'reputation': 1, 'use...</td>\n",
       "      <td>False</td>\n",
       "      <td>2</td>\n",
       "      <td>0</td>\n",
       "      <td>0</td>\n",
       "      <td>1673004149</td>\n",
       "      <td>1673004149</td>\n",
       "      <td>75030299</td>\n",
       "      <td>CC BY-SA 4.0</td>\n",
       "      <td>https://stackoverflow.com/questions/75030299/c...</td>\n",
       "      <td>Create WinUI3/MVVM Most Recently Used (MRU) Li...</td>\n",
       "      <td>NaN</td>\n",
       "      <td>NaN</td>\n",
       "    </tr>\n",
       "    <tr>\n",
       "      <th>22</th>\n",
       "      <td>[powershell]</td>\n",
       "      <td>{'account_id': 7080261, 'reputation': 357, 'us...</td>\n",
       "      <td>False</td>\n",
       "      <td>3</td>\n",
       "      <td>0</td>\n",
       "      <td>0</td>\n",
       "      <td>1673004143</td>\n",
       "      <td>1673004143</td>\n",
       "      <td>75030298</td>\n",
       "      <td>CC BY-SA 4.0</td>\n",
       "      <td>https://stackoverflow.com/questions/75030298/d...</td>\n",
       "      <td>Deleting folders with Powershell recursively i...</td>\n",
       "      <td>NaN</td>\n",
       "      <td>NaN</td>\n",
       "    </tr>\n",
       "    <tr>\n",
       "      <th>23</th>\n",
       "      <td>[java, postgresql, spring-boot, sql-order-by]</td>\n",
       "      <td>{'account_id': 23377374, 'reputation': 11, 'us...</td>\n",
       "      <td>False</td>\n",
       "      <td>47</td>\n",
       "      <td>3</td>\n",
       "      <td>1</td>\n",
       "      <td>1673004143</td>\n",
       "      <td>1672910157</td>\n",
       "      <td>75016144</td>\n",
       "      <td>CC BY-SA 4.0</td>\n",
       "      <td>https://stackoverflow.com/questions/75016144/i...</td>\n",
       "      <td>I want to user orderBy by giving specific orde...</td>\n",
       "      <td>NaN</td>\n",
       "      <td>NaN</td>\n",
       "    </tr>\n",
       "    <tr>\n",
       "      <th>24</th>\n",
       "      <td>[mysql, sql]</td>\n",
       "      <td>{'account_id': 6495720, 'reputation': 17, 'use...</td>\n",
       "      <td>False</td>\n",
       "      <td>4</td>\n",
       "      <td>0</td>\n",
       "      <td>0</td>\n",
       "      <td>1673004141</td>\n",
       "      <td>1673004141</td>\n",
       "      <td>75030296</td>\n",
       "      <td>CC BY-SA 4.0</td>\n",
       "      <td>https://stackoverflow.com/questions/75030296/s...</td>\n",
       "      <td>sql question for two tables join and group by</td>\n",
       "      <td>NaN</td>\n",
       "      <td>NaN</td>\n",
       "    </tr>\n",
       "    <tr>\n",
       "      <th>25</th>\n",
       "      <td>[javascript, google-chrome, w3c]</td>\n",
       "      <td>{'account_id': 5455659, 'reputation': 12707, '...</td>\n",
       "      <td>False</td>\n",
       "      <td>4</td>\n",
       "      <td>0</td>\n",
       "      <td>0</td>\n",
       "      <td>1673004137</td>\n",
       "      <td>1673004137</td>\n",
       "      <td>75030295</td>\n",
       "      <td>CC BY-SA 4.0</td>\n",
       "      <td>https://stackoverflow.com/questions/75030295/p...</td>\n",
       "      <td>Pointer events don&amp;#39;t support simultaneous ...</td>\n",
       "      <td>NaN</td>\n",
       "      <td>NaN</td>\n",
       "    </tr>\n",
       "    <tr>\n",
       "      <th>26</th>\n",
       "      <td>[google-api, gmail, google-oauth, gmail-api, g...</td>\n",
       "      <td>{'account_id': 13602849, 'reputation': 13, 'us...</td>\n",
       "      <td>False</td>\n",
       "      <td>17</td>\n",
       "      <td>1</td>\n",
       "      <td>1</td>\n",
       "      <td>1673004132</td>\n",
       "      <td>1673000082</td>\n",
       "      <td>75029589</td>\n",
       "      <td>CC BY-SA 4.0</td>\n",
       "      <td>https://stackoverflow.com/questions/75029589/h...</td>\n",
       "      <td>How to check Google SMTP current remaining quota?</td>\n",
       "      <td>1.673004e+09</td>\n",
       "      <td>NaN</td>\n",
       "    </tr>\n",
       "    <tr>\n",
       "      <th>27</th>\n",
       "      <td>[python-3.x, selenium, selenium-webdriver, web...</td>\n",
       "      <td>{'account_id': 19039970, 'reputation': 21, 'us...</td>\n",
       "      <td>False</td>\n",
       "      <td>5</td>\n",
       "      <td>0</td>\n",
       "      <td>0</td>\n",
       "      <td>1673004113</td>\n",
       "      <td>1673004113</td>\n",
       "      <td>75030293</td>\n",
       "      <td>CC BY-SA 4.0</td>\n",
       "      <td>https://stackoverflow.com/questions/75030293/s...</td>\n",
       "      <td>scrapping in python using selenium</td>\n",
       "      <td>NaN</td>\n",
       "      <td>NaN</td>\n",
       "    </tr>\n",
       "    <tr>\n",
       "      <th>28</th>\n",
       "      <td>[python, image, image-processing, computer-vis...</td>\n",
       "      <td>{'account_id': 18294503, 'reputation': 62, 'us...</td>\n",
       "      <td>False</td>\n",
       "      <td>18</td>\n",
       "      <td>0</td>\n",
       "      <td>0</td>\n",
       "      <td>1673004106</td>\n",
       "      <td>1672963504</td>\n",
       "      <td>75025669</td>\n",
       "      <td>CC BY-SA 4.0</td>\n",
       "      <td>https://stackoverflow.com/questions/75025669/h...</td>\n",
       "      <td>How to transform an image in 3d without cuttin...</td>\n",
       "      <td>1.673004e+09</td>\n",
       "      <td>NaN</td>\n",
       "    </tr>\n",
       "    <tr>\n",
       "      <th>29</th>\n",
       "      <td>[csv, awk]</td>\n",
       "      <td>{'account_id': 2035639, 'reputation': 734, 'us...</td>\n",
       "      <td>False</td>\n",
       "      <td>8</td>\n",
       "      <td>1</td>\n",
       "      <td>0</td>\n",
       "      <td>1673004106</td>\n",
       "      <td>1673003753</td>\n",
       "      <td>75030240</td>\n",
       "      <td>CC BY-SA 4.0</td>\n",
       "      <td>https://stackoverflow.com/questions/75030240/a...</td>\n",
       "      <td>AWK: convert single column to multiple, ensuri...</td>\n",
       "      <td>NaN</td>\n",
       "      <td>NaN</td>\n",
       "    </tr>\n",
       "  </tbody>\n",
       "</table>\n",
       "</div>"
      ],
      "text/plain": [
       "                                                 tags  \\\n",
       "0                   [ubuntu, user-interface, vagrant]   \n",
       "1                       [javascript, arrays, sorting]   \n",
       "2        [python, visual-studio-code, debugging, pip]   \n",
       "3   [android, firebase, firebase-cloud-messaging, ...   \n",
       "4                [python, linux, bash, shell, tekton]   \n",
       "5      [python-3.x, pandas, beautifulsoup, gmail-api]   \n",
       "6                              [python, arrays, list]   \n",
       "7     [encryption, google-cloud-messaging, openresty]   \n",
       "8                                     [reactjs, antd]   \n",
       "9                              [sql, amazon-redshift]   \n",
       "10                        [r, select, random, sample]   \n",
       "11  [firebase, go, google-cloud-platform, google-c...   \n",
       "12                [php, arrays, sum, mapping, cyclic]   \n",
       "13              [windows, command-line, mkdir, xcopy]   \n",
       "14                [java, spring, api, security, boot]   \n",
       "15                   [azure, azure-monitor-workbooks]   \n",
       "16  [google-cloud-functions, google-cloud-storage,...   \n",
       "17                     [python, django, django-admin]   \n",
       "18                               [sql-server, vb.net]   \n",
       "19                      [ruby-on-rails, ruby, routes]   \n",
       "20             [reactjs, material-ui, react-material]   \n",
       "21                        [mvvm, menubar, winui, mru]   \n",
       "22                                       [powershell]   \n",
       "23      [java, postgresql, spring-boot, sql-order-by]   \n",
       "24                                       [mysql, sql]   \n",
       "25                   [javascript, google-chrome, w3c]   \n",
       "26  [google-api, gmail, google-oauth, gmail-api, g...   \n",
       "27  [python-3.x, selenium, selenium-webdriver, web...   \n",
       "28  [python, image, image-processing, computer-vis...   \n",
       "29                                         [csv, awk]   \n",
       "\n",
       "                                                owner  is_answered  \\\n",
       "0   {'account_id': 11711528, 'reputation': 13, 'us...        False   \n",
       "1   {'account_id': 26853988, 'reputation': 1, 'use...        False   \n",
       "2   {'account_id': 6410310, 'reputation': 103, 'us...         True   \n",
       "3   {'account_id': 13019973, 'reputation': 11, 'us...        False   \n",
       "4   {'account_id': 12369149, 'reputation': 115, 'u...         True   \n",
       "5   {'account_id': 24261712, 'reputation': 1, 'use...        False   \n",
       "6   {'account_id': 17978232, 'reputation': 29, 'us...        False   \n",
       "7   {'account_id': 17293674, 'reputation': 1, 'use...        False   \n",
       "8   {'account_id': 27202938, 'reputation': 9, 'use...        False   \n",
       "9   {'account_id': 12359503, 'reputation': 69, 'us...        False   \n",
       "10  {'account_id': 27439438, 'reputation': 9, 'use...        False   \n",
       "11  {'account_id': 17215023, 'reputation': 102, 'u...        False   \n",
       "12  {'account_id': 472054, 'reputation': 2005, 'us...         True   \n",
       "13  {'account_id': 27451560, 'reputation': 1, 'use...        False   \n",
       "14  {'account_id': 16152367, 'reputation': 1, 'use...        False   \n",
       "15  {'account_id': 27428501, 'reputation': 1, 'use...        False   \n",
       "16  {'account_id': 1627217, 'reputation': 635, 'us...        False   \n",
       "17  {'account_id': 25815084, 'reputation': 35, 'us...        False   \n",
       "18  {'account_id': 10322701, 'reputation': 133, 'u...        False   \n",
       "19  {'account_id': 3474840, 'reputation': 2548, 'u...        False   \n",
       "20  {'account_id': 25397717, 'reputation': 1, 'use...        False   \n",
       "21  {'account_id': 11774739, 'reputation': 1, 'use...        False   \n",
       "22  {'account_id': 7080261, 'reputation': 357, 'us...        False   \n",
       "23  {'account_id': 23377374, 'reputation': 11, 'us...        False   \n",
       "24  {'account_id': 6495720, 'reputation': 17, 'use...        False   \n",
       "25  {'account_id': 5455659, 'reputation': 12707, '...        False   \n",
       "26  {'account_id': 13602849, 'reputation': 13, 'us...        False   \n",
       "27  {'account_id': 19039970, 'reputation': 21, 'us...        False   \n",
       "28  {'account_id': 18294503, 'reputation': 62, 'us...        False   \n",
       "29  {'account_id': 2035639, 'reputation': 734, 'us...        False   \n",
       "\n",
       "    view_count  answer_count  score  last_activity_date  creation_date  \\\n",
       "0            2             0      0          1673004215     1673004215   \n",
       "1            1             0      0          1673004215     1673004215   \n",
       "2         3009             4      7          1673004211     1549899657   \n",
       "3            2             0      0          1673004211     1673004211   \n",
       "4           65             2      0          1673004206     1669210316   \n",
       "5            7             0      0          1673004202     1672997610   \n",
       "6            3             0      0          1673004202     1673004202   \n",
       "7           18             1      0          1673004193     1672978288   \n",
       "8            4             0      0          1673004183     1673004183   \n",
       "9           13             1      0          1673004183     1671797291   \n",
       "10          28             0      0          1673004180     1672909756   \n",
       "11           2             0      0          1673004179     1673004179   \n",
       "12        1274             4      2          1673004174     1510818298   \n",
       "13           2             0      0          1673004173     1673004173   \n",
       "14           2             0      0          1673004172     1673004172   \n",
       "15          19             1      0          1673004169     1672820076   \n",
       "16          21             1      0          1673004168     1672939693   \n",
       "17           2             0      0          1673004165     1673004165   \n",
       "18           2             0      0          1673004163     1673004163   \n",
       "19           2             0      0          1673004160     1673004160   \n",
       "20           3             0      0          1673004159     1673004159   \n",
       "21           2             0      0          1673004149     1673004149   \n",
       "22           3             0      0          1673004143     1673004143   \n",
       "23          47             3      1          1673004143     1672910157   \n",
       "24           4             0      0          1673004141     1673004141   \n",
       "25           4             0      0          1673004137     1673004137   \n",
       "26          17             1      1          1673004132     1673000082   \n",
       "27           5             0      0          1673004113     1673004113   \n",
       "28          18             0      0          1673004106     1672963504   \n",
       "29           8             1      0          1673004106     1673003753   \n",
       "\n",
       "    question_id content_license  \\\n",
       "0      75030315    CC BY-SA 4.0   \n",
       "1      75030314    CC BY-SA 4.0   \n",
       "2      54634097    CC BY-SA 4.0   \n",
       "3      75030313    CC BY-SA 4.0   \n",
       "4      74547609    CC BY-SA 4.0   \n",
       "5      75029157    CC BY-SA 4.0   \n",
       "6      75030311    CC BY-SA 4.0   \n",
       "7      75026858    CC BY-SA 4.0   \n",
       "8      75030309    CC BY-SA 4.0   \n",
       "9      74899476    CC BY-SA 4.0   \n",
       "10     75016061    CC BY-SA 4.0   \n",
       "11     75030307    CC BY-SA 4.0   \n",
       "12     47324153    CC BY-SA 4.0   \n",
       "13     75030306    CC BY-SA 4.0   \n",
       "14     75030305    CC BY-SA 4.0   \n",
       "15     75002607    CC BY-SA 4.0   \n",
       "16     75022225    CC BY-SA 4.0   \n",
       "17     75030303    CC BY-SA 4.0   \n",
       "18     75030302    CC BY-SA 4.0   \n",
       "19     75030301    CC BY-SA 4.0   \n",
       "20     75030300    CC BY-SA 4.0   \n",
       "21     75030299    CC BY-SA 4.0   \n",
       "22     75030298    CC BY-SA 4.0   \n",
       "23     75016144    CC BY-SA 4.0   \n",
       "24     75030296    CC BY-SA 4.0   \n",
       "25     75030295    CC BY-SA 4.0   \n",
       "26     75029589    CC BY-SA 4.0   \n",
       "27     75030293    CC BY-SA 4.0   \n",
       "28     75025669    CC BY-SA 4.0   \n",
       "29     75030240    CC BY-SA 4.0   \n",
       "\n",
       "                                                 link  \\\n",
       "0   https://stackoverflow.com/questions/75030315/l...   \n",
       "1   https://stackoverflow.com/questions/75030314/a...   \n",
       "2   https://stackoverflow.com/questions/54634097/u...   \n",
       "3   https://stackoverflow.com/questions/75030313/w...   \n",
       "4   https://stackoverflow.com/questions/74547609/h...   \n",
       "5   https://stackoverflow.com/questions/75029157/g...   \n",
       "6   https://stackoverflow.com/questions/75030311/c...   \n",
       "7   https://stackoverflow.com/questions/75026858/o...   \n",
       "8   https://stackoverflow.com/questions/75030309/h...   \n",
       "9   https://stackoverflow.com/questions/74899476/n...   \n",
       "10  https://stackoverflow.com/questions/75016061/a...   \n",
       "11  https://stackoverflow.com/questions/75030307/d...   \n",
       "12  https://stackoverflow.com/questions/47324153/c...   \n",
       "13  https://stackoverflow.com/questions/75030306/h...   \n",
       "14  https://stackoverflow.com/questions/75030305/w...   \n",
       "15  https://stackoverflow.com/questions/75002607/c...   \n",
       "16  https://stackoverflow.com/questions/75022225/p...   \n",
       "17  https://stackoverflow.com/questions/75030303/d...   \n",
       "18  https://stackoverflow.com/questions/75030302/c...   \n",
       "19  https://stackoverflow.com/questions/75030301/r...   \n",
       "20  https://stackoverflow.com/questions/75030300/h...   \n",
       "21  https://stackoverflow.com/questions/75030299/c...   \n",
       "22  https://stackoverflow.com/questions/75030298/d...   \n",
       "23  https://stackoverflow.com/questions/75016144/i...   \n",
       "24  https://stackoverflow.com/questions/75030296/s...   \n",
       "25  https://stackoverflow.com/questions/75030295/p...   \n",
       "26  https://stackoverflow.com/questions/75029589/h...   \n",
       "27  https://stackoverflow.com/questions/75030293/s...   \n",
       "28  https://stackoverflow.com/questions/75025669/h...   \n",
       "29  https://stackoverflow.com/questions/75030240/a...   \n",
       "\n",
       "                                                title  last_edit_date  \\\n",
       "0                      Lubuntu 22 in Vagrant with GUI             NaN   \n",
       "1               Assignment and Homework Help Guidance             NaN   \n",
       "2   Using venv - VS Code debugging doesn&#39;t see...    1.673004e+09   \n",
       "3            Why data field in FCM Data API is empty?             NaN   \n",
       "4    How to emit result in Tekton with python script?    1.669216e+09   \n",
       "5                          gmail api body recognition    1.673004e+09   \n",
       "6           Creating array based on probability value             NaN   \n",
       "7   OpenResty lua-resty-string: Unable to decrypt ...             NaN   \n",
       "8                         How to customize ant design             NaN   \n",
       "9   Need to find dependent stored procedure list i...             NaN   \n",
       "10                      Aleatory value selection in R    1.673004e+09   \n",
       "11  Do I need extra round trip to firestore for re...             NaN   \n",
       "12  Cyclical mapping flat arrays of different size...    1.673002e+09   \n",
       "13  How to use XCOPY to copy files from memory car...             NaN   \n",
       "14  When I request a request, it returns 401 unaut...             NaN   \n",
       "15  Custom timeframe date range in azure workbooks...    1.673004e+09   \n",
       "16  Python - Return Google Cloud Storage - Return ...    1.672942e+09   \n",
       "17           Django - Disable editing via view button             NaN   \n",
       "18  Compare Field of a Table with Images in a Fold...             NaN   \n",
       "19  routes: match &#39;*path&#39; does not catch P...             NaN   \n",
       "20  How to fix ButtonGroup bleeding out of Grid co...             NaN   \n",
       "21  Create WinUI3/MVVM Most Recently Used (MRU) Li...             NaN   \n",
       "22  Deleting folders with Powershell recursively i...             NaN   \n",
       "23  I want to user orderBy by giving specific orde...             NaN   \n",
       "24      sql question for two tables join and group by             NaN   \n",
       "25  Pointer events don&#39;t support simultaneous ...             NaN   \n",
       "26  How to check Google SMTP current remaining quota?    1.673004e+09   \n",
       "27                 scrapping in python using selenium             NaN   \n",
       "28  How to transform an image in 3d without cuttin...    1.673004e+09   \n",
       "29  AWK: convert single column to multiple, ensuri...             NaN   \n",
       "\n",
       "    accepted_answer_id  \n",
       "0                  NaN  \n",
       "1                  NaN  \n",
       "2                  NaN  \n",
       "3                  NaN  \n",
       "4           75030312.0  \n",
       "5                  NaN  \n",
       "6                  NaN  \n",
       "7                  NaN  \n",
       "8                  NaN  \n",
       "9                  NaN  \n",
       "10                 NaN  \n",
       "11                 NaN  \n",
       "12          47324330.0  \n",
       "13                 NaN  \n",
       "14                 NaN  \n",
       "15                 NaN  \n",
       "16                 NaN  \n",
       "17                 NaN  \n",
       "18                 NaN  \n",
       "19                 NaN  \n",
       "20                 NaN  \n",
       "21                 NaN  \n",
       "22                 NaN  \n",
       "23                 NaN  \n",
       "24                 NaN  \n",
       "25                 NaN  \n",
       "26                 NaN  \n",
       "27                 NaN  \n",
       "28                 NaN  \n",
       "29                 NaN  "
      ]
     },
     "execution_count": 45,
     "metadata": {},
     "output_type": "execute_result"
    }
   ],
   "source": [
    "ques_df"
   ]
  },
  {
   "cell_type": "code",
   "execution_count": 46,
   "metadata": {},
   "outputs": [
    {
     "name": "stdout",
     "output_type": "stream",
     "text": [
      "<class 'pandas.core.frame.DataFrame'>\n",
      "RangeIndex: 30 entries, 0 to 29\n",
      "Data columns (total 14 columns):\n",
      " #   Column              Non-Null Count  Dtype  \n",
      "---  ------              --------------  -----  \n",
      " 0   tags                30 non-null     object \n",
      " 1   owner               30 non-null     object \n",
      " 2   is_answered         30 non-null     bool   \n",
      " 3   view_count          30 non-null     int64  \n",
      " 4   answer_count        30 non-null     int64  \n",
      " 5   score               30 non-null     int64  \n",
      " 6   last_activity_date  30 non-null     int64  \n",
      " 7   creation_date       30 non-null     int64  \n",
      " 8   question_id         30 non-null     int64  \n",
      " 9   content_license     30 non-null     object \n",
      " 10  link                30 non-null     object \n",
      " 11  title               30 non-null     object \n",
      " 12  last_edit_date      9 non-null      float64\n",
      " 13  accepted_answer_id  2 non-null      float64\n",
      "dtypes: bool(1), float64(2), int64(6), object(5)\n",
      "memory usage: 3.2+ KB\n"
     ]
    }
   ],
   "source": [
    "ques_df.info()"
   ]
  },
  {
   "cell_type": "code",
   "execution_count": 47,
   "metadata": {},
   "outputs": [
    {
     "data": {
      "text/plain": [
       "Index(['tags', 'owner', 'is_answered', 'view_count', 'answer_count', 'score',\n",
       "       'last_activity_date', 'creation_date', 'question_id', 'content_license',\n",
       "       'link', 'title', 'last_edit_date', 'accepted_answer_id'],\n",
       "      dtype='object')"
      ]
     },
     "execution_count": 47,
     "metadata": {},
     "output_type": "execute_result"
    }
   ],
   "source": [
    "ques_df.columns"
   ]
  },
  {
   "attachments": {},
   "cell_type": "markdown",
   "metadata": {},
   "source": [
    "### **How many questions in the stack overflow were answered?**"
   ]
  },
  {
   "cell_type": "code",
   "execution_count": 48,
   "metadata": {},
   "outputs": [
    {
     "data": {
      "application/vnd.plotly.v1+json": {
       "config": {
        "plotlyServerURL": "https://plot.ly"
       },
       "data": [
        {
         "alignmentgroup": "True",
         "hovertemplate": "Answers to Questions=%{x}<br>Number of Questions=%{y}<extra></extra>",
         "legendgroup": "",
         "marker": {
          "color": "#636efa",
          "pattern": {
           "shape": ""
          }
         },
         "name": "",
         "offsetgroup": "",
         "orientation": "v",
         "showlegend": false,
         "textposition": "auto",
         "type": "bar",
         "x": [
          false,
          false,
          true,
          false,
          true,
          false,
          false,
          false,
          false,
          false,
          false,
          false,
          true,
          false,
          false,
          false,
          false,
          false,
          false,
          false,
          false,
          false,
          false,
          false,
          false,
          false,
          false,
          false,
          false,
          false
         ],
         "xaxis": "x",
         "y": [
          1,
          1,
          1,
          1,
          1,
          1,
          1,
          1,
          1,
          1,
          1,
          1,
          1,
          1,
          1,
          1,
          1,
          1,
          1,
          1,
          1,
          1,
          1,
          1,
          1,
          1,
          1,
          1,
          1,
          1
         ],
         "yaxis": "y"
        }
       ],
       "layout": {
        "barmode": "relative",
        "legend": {
         "tracegroupgap": 0
        },
        "template": {
         "data": {
          "bar": [
           {
            "error_x": {
             "color": "#f2f5fa"
            },
            "error_y": {
             "color": "#f2f5fa"
            },
            "marker": {
             "line": {
              "color": "rgb(17,17,17)",
              "width": 0.5
             },
             "pattern": {
              "fillmode": "overlay",
              "size": 10,
              "solidity": 0.2
             }
            },
            "type": "bar"
           }
          ],
          "barpolar": [
           {
            "marker": {
             "line": {
              "color": "rgb(17,17,17)",
              "width": 0.5
             },
             "pattern": {
              "fillmode": "overlay",
              "size": 10,
              "solidity": 0.2
             }
            },
            "type": "barpolar"
           }
          ],
          "carpet": [
           {
            "aaxis": {
             "endlinecolor": "#A2B1C6",
             "gridcolor": "#506784",
             "linecolor": "#506784",
             "minorgridcolor": "#506784",
             "startlinecolor": "#A2B1C6"
            },
            "baxis": {
             "endlinecolor": "#A2B1C6",
             "gridcolor": "#506784",
             "linecolor": "#506784",
             "minorgridcolor": "#506784",
             "startlinecolor": "#A2B1C6"
            },
            "type": "carpet"
           }
          ],
          "choropleth": [
           {
            "colorbar": {
             "outlinewidth": 0,
             "ticks": ""
            },
            "type": "choropleth"
           }
          ],
          "contour": [
           {
            "colorbar": {
             "outlinewidth": 0,
             "ticks": ""
            },
            "colorscale": [
             [
              0,
              "#0d0887"
             ],
             [
              0.1111111111111111,
              "#46039f"
             ],
             [
              0.2222222222222222,
              "#7201a8"
             ],
             [
              0.3333333333333333,
              "#9c179e"
             ],
             [
              0.4444444444444444,
              "#bd3786"
             ],
             [
              0.5555555555555556,
              "#d8576b"
             ],
             [
              0.6666666666666666,
              "#ed7953"
             ],
             [
              0.7777777777777778,
              "#fb9f3a"
             ],
             [
              0.8888888888888888,
              "#fdca26"
             ],
             [
              1,
              "#f0f921"
             ]
            ],
            "type": "contour"
           }
          ],
          "contourcarpet": [
           {
            "colorbar": {
             "outlinewidth": 0,
             "ticks": ""
            },
            "type": "contourcarpet"
           }
          ],
          "heatmap": [
           {
            "colorbar": {
             "outlinewidth": 0,
             "ticks": ""
            },
            "colorscale": [
             [
              0,
              "#0d0887"
             ],
             [
              0.1111111111111111,
              "#46039f"
             ],
             [
              0.2222222222222222,
              "#7201a8"
             ],
             [
              0.3333333333333333,
              "#9c179e"
             ],
             [
              0.4444444444444444,
              "#bd3786"
             ],
             [
              0.5555555555555556,
              "#d8576b"
             ],
             [
              0.6666666666666666,
              "#ed7953"
             ],
             [
              0.7777777777777778,
              "#fb9f3a"
             ],
             [
              0.8888888888888888,
              "#fdca26"
             ],
             [
              1,
              "#f0f921"
             ]
            ],
            "type": "heatmap"
           }
          ],
          "heatmapgl": [
           {
            "colorbar": {
             "outlinewidth": 0,
             "ticks": ""
            },
            "colorscale": [
             [
              0,
              "#0d0887"
             ],
             [
              0.1111111111111111,
              "#46039f"
             ],
             [
              0.2222222222222222,
              "#7201a8"
             ],
             [
              0.3333333333333333,
              "#9c179e"
             ],
             [
              0.4444444444444444,
              "#bd3786"
             ],
             [
              0.5555555555555556,
              "#d8576b"
             ],
             [
              0.6666666666666666,
              "#ed7953"
             ],
             [
              0.7777777777777778,
              "#fb9f3a"
             ],
             [
              0.8888888888888888,
              "#fdca26"
             ],
             [
              1,
              "#f0f921"
             ]
            ],
            "type": "heatmapgl"
           }
          ],
          "histogram": [
           {
            "marker": {
             "pattern": {
              "fillmode": "overlay",
              "size": 10,
              "solidity": 0.2
             }
            },
            "type": "histogram"
           }
          ],
          "histogram2d": [
           {
            "colorbar": {
             "outlinewidth": 0,
             "ticks": ""
            },
            "colorscale": [
             [
              0,
              "#0d0887"
             ],
             [
              0.1111111111111111,
              "#46039f"
             ],
             [
              0.2222222222222222,
              "#7201a8"
             ],
             [
              0.3333333333333333,
              "#9c179e"
             ],
             [
              0.4444444444444444,
              "#bd3786"
             ],
             [
              0.5555555555555556,
              "#d8576b"
             ],
             [
              0.6666666666666666,
              "#ed7953"
             ],
             [
              0.7777777777777778,
              "#fb9f3a"
             ],
             [
              0.8888888888888888,
              "#fdca26"
             ],
             [
              1,
              "#f0f921"
             ]
            ],
            "type": "histogram2d"
           }
          ],
          "histogram2dcontour": [
           {
            "colorbar": {
             "outlinewidth": 0,
             "ticks": ""
            },
            "colorscale": [
             [
              0,
              "#0d0887"
             ],
             [
              0.1111111111111111,
              "#46039f"
             ],
             [
              0.2222222222222222,
              "#7201a8"
             ],
             [
              0.3333333333333333,
              "#9c179e"
             ],
             [
              0.4444444444444444,
              "#bd3786"
             ],
             [
              0.5555555555555556,
              "#d8576b"
             ],
             [
              0.6666666666666666,
              "#ed7953"
             ],
             [
              0.7777777777777778,
              "#fb9f3a"
             ],
             [
              0.8888888888888888,
              "#fdca26"
             ],
             [
              1,
              "#f0f921"
             ]
            ],
            "type": "histogram2dcontour"
           }
          ],
          "mesh3d": [
           {
            "colorbar": {
             "outlinewidth": 0,
             "ticks": ""
            },
            "type": "mesh3d"
           }
          ],
          "parcoords": [
           {
            "line": {
             "colorbar": {
              "outlinewidth": 0,
              "ticks": ""
             }
            },
            "type": "parcoords"
           }
          ],
          "pie": [
           {
            "automargin": true,
            "type": "pie"
           }
          ],
          "scatter": [
           {
            "marker": {
             "line": {
              "color": "#283442"
             }
            },
            "type": "scatter"
           }
          ],
          "scatter3d": [
           {
            "line": {
             "colorbar": {
              "outlinewidth": 0,
              "ticks": ""
             }
            },
            "marker": {
             "colorbar": {
              "outlinewidth": 0,
              "ticks": ""
             }
            },
            "type": "scatter3d"
           }
          ],
          "scattercarpet": [
           {
            "marker": {
             "colorbar": {
              "outlinewidth": 0,
              "ticks": ""
             }
            },
            "type": "scattercarpet"
           }
          ],
          "scattergeo": [
           {
            "marker": {
             "colorbar": {
              "outlinewidth": 0,
              "ticks": ""
             }
            },
            "type": "scattergeo"
           }
          ],
          "scattergl": [
           {
            "marker": {
             "line": {
              "color": "#283442"
             }
            },
            "type": "scattergl"
           }
          ],
          "scattermapbox": [
           {
            "marker": {
             "colorbar": {
              "outlinewidth": 0,
              "ticks": ""
             }
            },
            "type": "scattermapbox"
           }
          ],
          "scatterpolar": [
           {
            "marker": {
             "colorbar": {
              "outlinewidth": 0,
              "ticks": ""
             }
            },
            "type": "scatterpolar"
           }
          ],
          "scatterpolargl": [
           {
            "marker": {
             "colorbar": {
              "outlinewidth": 0,
              "ticks": ""
             }
            },
            "type": "scatterpolargl"
           }
          ],
          "scatterternary": [
           {
            "marker": {
             "colorbar": {
              "outlinewidth": 0,
              "ticks": ""
             }
            },
            "type": "scatterternary"
           }
          ],
          "surface": [
           {
            "colorbar": {
             "outlinewidth": 0,
             "ticks": ""
            },
            "colorscale": [
             [
              0,
              "#0d0887"
             ],
             [
              0.1111111111111111,
              "#46039f"
             ],
             [
              0.2222222222222222,
              "#7201a8"
             ],
             [
              0.3333333333333333,
              "#9c179e"
             ],
             [
              0.4444444444444444,
              "#bd3786"
             ],
             [
              0.5555555555555556,
              "#d8576b"
             ],
             [
              0.6666666666666666,
              "#ed7953"
             ],
             [
              0.7777777777777778,
              "#fb9f3a"
             ],
             [
              0.8888888888888888,
              "#fdca26"
             ],
             [
              1,
              "#f0f921"
             ]
            ],
            "type": "surface"
           }
          ],
          "table": [
           {
            "cells": {
             "fill": {
              "color": "#506784"
             },
             "line": {
              "color": "rgb(17,17,17)"
             }
            },
            "header": {
             "fill": {
              "color": "#2a3f5f"
             },
             "line": {
              "color": "rgb(17,17,17)"
             }
            },
            "type": "table"
           }
          ]
         },
         "layout": {
          "annotationdefaults": {
           "arrowcolor": "#f2f5fa",
           "arrowhead": 0,
           "arrowwidth": 1
          },
          "autotypenumbers": "strict",
          "coloraxis": {
           "colorbar": {
            "outlinewidth": 0,
            "ticks": ""
           }
          },
          "colorscale": {
           "diverging": [
            [
             0,
             "#8e0152"
            ],
            [
             0.1,
             "#c51b7d"
            ],
            [
             0.2,
             "#de77ae"
            ],
            [
             0.3,
             "#f1b6da"
            ],
            [
             0.4,
             "#fde0ef"
            ],
            [
             0.5,
             "#f7f7f7"
            ],
            [
             0.6,
             "#e6f5d0"
            ],
            [
             0.7,
             "#b8e186"
            ],
            [
             0.8,
             "#7fbc41"
            ],
            [
             0.9,
             "#4d9221"
            ],
            [
             1,
             "#276419"
            ]
           ],
           "sequential": [
            [
             0,
             "#0d0887"
            ],
            [
             0.1111111111111111,
             "#46039f"
            ],
            [
             0.2222222222222222,
             "#7201a8"
            ],
            [
             0.3333333333333333,
             "#9c179e"
            ],
            [
             0.4444444444444444,
             "#bd3786"
            ],
            [
             0.5555555555555556,
             "#d8576b"
            ],
            [
             0.6666666666666666,
             "#ed7953"
            ],
            [
             0.7777777777777778,
             "#fb9f3a"
            ],
            [
             0.8888888888888888,
             "#fdca26"
            ],
            [
             1,
             "#f0f921"
            ]
           ],
           "sequentialminus": [
            [
             0,
             "#0d0887"
            ],
            [
             0.1111111111111111,
             "#46039f"
            ],
            [
             0.2222222222222222,
             "#7201a8"
            ],
            [
             0.3333333333333333,
             "#9c179e"
            ],
            [
             0.4444444444444444,
             "#bd3786"
            ],
            [
             0.5555555555555556,
             "#d8576b"
            ],
            [
             0.6666666666666666,
             "#ed7953"
            ],
            [
             0.7777777777777778,
             "#fb9f3a"
            ],
            [
             0.8888888888888888,
             "#fdca26"
            ],
            [
             1,
             "#f0f921"
            ]
           ]
          },
          "colorway": [
           "#636efa",
           "#EF553B",
           "#00cc96",
           "#ab63fa",
           "#FFA15A",
           "#19d3f3",
           "#FF6692",
           "#B6E880",
           "#FF97FF",
           "#FECB52"
          ],
          "font": {
           "color": "#f2f5fa"
          },
          "geo": {
           "bgcolor": "rgb(17,17,17)",
           "lakecolor": "rgb(17,17,17)",
           "landcolor": "rgb(17,17,17)",
           "showlakes": true,
           "showland": true,
           "subunitcolor": "#506784"
          },
          "hoverlabel": {
           "align": "left"
          },
          "hovermode": "closest",
          "mapbox": {
           "style": "dark"
          },
          "paper_bgcolor": "rgb(17,17,17)",
          "plot_bgcolor": "rgb(17,17,17)",
          "polar": {
           "angularaxis": {
            "gridcolor": "#506784",
            "linecolor": "#506784",
            "ticks": ""
           },
           "bgcolor": "rgb(17,17,17)",
           "radialaxis": {
            "gridcolor": "#506784",
            "linecolor": "#506784",
            "ticks": ""
           }
          },
          "scene": {
           "xaxis": {
            "backgroundcolor": "rgb(17,17,17)",
            "gridcolor": "#506784",
            "gridwidth": 2,
            "linecolor": "#506784",
            "showbackground": true,
            "ticks": "",
            "zerolinecolor": "#C8D4E3"
           },
           "yaxis": {
            "backgroundcolor": "rgb(17,17,17)",
            "gridcolor": "#506784",
            "gridwidth": 2,
            "linecolor": "#506784",
            "showbackground": true,
            "ticks": "",
            "zerolinecolor": "#C8D4E3"
           },
           "zaxis": {
            "backgroundcolor": "rgb(17,17,17)",
            "gridcolor": "#506784",
            "gridwidth": 2,
            "linecolor": "#506784",
            "showbackground": true,
            "ticks": "",
            "zerolinecolor": "#C8D4E3"
           }
          },
          "shapedefaults": {
           "line": {
            "color": "#f2f5fa"
           }
          },
          "sliderdefaults": {
           "bgcolor": "#C8D4E3",
           "bordercolor": "rgb(17,17,17)",
           "borderwidth": 1,
           "tickwidth": 0
          },
          "ternary": {
           "aaxis": {
            "gridcolor": "#506784",
            "linecolor": "#506784",
            "ticks": ""
           },
           "baxis": {
            "gridcolor": "#506784",
            "linecolor": "#506784",
            "ticks": ""
           },
           "bgcolor": "rgb(17,17,17)",
           "caxis": {
            "gridcolor": "#506784",
            "linecolor": "#506784",
            "ticks": ""
           }
          },
          "title": {
           "x": 0.05
          },
          "updatemenudefaults": {
           "bgcolor": "#506784",
           "borderwidth": 0
          },
          "xaxis": {
           "automargin": true,
           "gridcolor": "#283442",
           "linecolor": "#506784",
           "ticks": "",
           "title": {
            "standoff": 15
           },
           "zerolinecolor": "#283442",
           "zerolinewidth": 2
          },
          "yaxis": {
           "automargin": true,
           "gridcolor": "#283442",
           "linecolor": "#506784",
           "ticks": "",
           "title": {
            "standoff": 15
           },
           "zerolinecolor": "#283442",
           "zerolinewidth": 2
          }
         }
        },
        "title": {
         "text": "How many questions in the stack overflow were answered?"
        },
        "xaxis": {
         "anchor": "y",
         "domain": [
          0,
          1
         ],
         "title": {
          "text": "Answers to Questions"
         }
        },
        "yaxis": {
         "anchor": "x",
         "domain": [
          0,
          1
         ],
         "title": {
          "text": "Number of Questions"
         }
        }
       }
      }
     },
     "metadata": {},
     "output_type": "display_data"
    }
   ],
   "source": [
    "px.bar(ques_df,\n",
    "        x='is_answered',\n",
    "        title=\"How many questions in the stack overflow were answered?\",\n",
    "        labels={\n",
    "                     \"is_answered\": \"Answers to Questions\",\n",
    "                     \"count\": \"Number of Questions\"\n",
    "                 }\n",
    "        )"
   ]
  },
  {
   "attachments": {},
   "cell_type": "markdown",
   "metadata": {},
   "source": [
    "### **What is the most popular programming language that people ask about?**"
   ]
  },
  {
   "cell_type": "code",
   "execution_count": 49,
   "metadata": {},
   "outputs": [
    {
     "data": {
      "text/plain": [
       "0                     [ubuntu, user-interface, vagrant]\n",
       "1                         [javascript, arrays, sorting]\n",
       "2          [python, visual-studio-code, debugging, pip]\n",
       "3     [android, firebase, firebase-cloud-messaging, ...\n",
       "4                  [python, linux, bash, shell, tekton]\n",
       "5        [python-3.x, pandas, beautifulsoup, gmail-api]\n",
       "6                                [python, arrays, list]\n",
       "7       [encryption, google-cloud-messaging, openresty]\n",
       "8                                       [reactjs, antd]\n",
       "9                                [sql, amazon-redshift]\n",
       "10                          [r, select, random, sample]\n",
       "11    [firebase, go, google-cloud-platform, google-c...\n",
       "12                  [php, arrays, sum, mapping, cyclic]\n",
       "13                [windows, command-line, mkdir, xcopy]\n",
       "14                  [java, spring, api, security, boot]\n",
       "15                     [azure, azure-monitor-workbooks]\n",
       "16    [google-cloud-functions, google-cloud-storage,...\n",
       "17                       [python, django, django-admin]\n",
       "18                                 [sql-server, vb.net]\n",
       "19                        [ruby-on-rails, ruby, routes]\n",
       "20               [reactjs, material-ui, react-material]\n",
       "21                          [mvvm, menubar, winui, mru]\n",
       "22                                         [powershell]\n",
       "23        [java, postgresql, spring-boot, sql-order-by]\n",
       "24                                         [mysql, sql]\n",
       "25                     [javascript, google-chrome, w3c]\n",
       "26    [google-api, gmail, google-oauth, gmail-api, g...\n",
       "27    [python-3.x, selenium, selenium-webdriver, web...\n",
       "28    [python, image, image-processing, computer-vis...\n",
       "29                                           [csv, awk]\n",
       "Name: tags, dtype: object"
      ]
     },
     "execution_count": 49,
     "metadata": {},
     "output_type": "execute_result"
    }
   ],
   "source": [
    "ques_df['tags']"
   ]
  },
  {
   "cell_type": "code",
   "execution_count": 50,
   "metadata": {},
   "outputs": [],
   "source": [
    "listed_item = ques_df['tags'].to_list()"
   ]
  },
  {
   "cell_type": "code",
   "execution_count": 51,
   "metadata": {},
   "outputs": [
    {
     "data": {
      "text/plain": [
       "[['ubuntu', 'user-interface', 'vagrant'],\n",
       " ['javascript', 'arrays', 'sorting'],\n",
       " ['python', 'visual-studio-code', 'debugging', 'pip'],\n",
       " ['android', 'firebase', 'firebase-cloud-messaging', 'firebase-analytics'],\n",
       " ['python', 'linux', 'bash', 'shell', 'tekton'],\n",
       " ['python-3.x', 'pandas', 'beautifulsoup', 'gmail-api'],\n",
       " ['python', 'arrays', 'list'],\n",
       " ['encryption', 'google-cloud-messaging', 'openresty'],\n",
       " ['reactjs', 'antd'],\n",
       " ['sql', 'amazon-redshift'],\n",
       " ['r', 'select', 'random', 'sample'],\n",
       " ['firebase',\n",
       "  'go',\n",
       "  'google-cloud-platform',\n",
       "  'google-cloud-firestore',\n",
       "  'timestamp'],\n",
       " ['php', 'arrays', 'sum', 'mapping', 'cyclic'],\n",
       " ['windows', 'command-line', 'mkdir', 'xcopy'],\n",
       " ['java', 'spring', 'api', 'security', 'boot'],\n",
       " ['azure', 'azure-monitor-workbooks'],\n",
       " ['google-cloud-functions',\n",
       "  'google-cloud-storage',\n",
       "  'fastapi',\n",
       "  'google-cloud-run'],\n",
       " ['python', 'django', 'django-admin'],\n",
       " ['sql-server', 'vb.net'],\n",
       " ['ruby-on-rails', 'ruby', 'routes'],\n",
       " ['reactjs', 'material-ui', 'react-material'],\n",
       " ['mvvm', 'menubar', 'winui', 'mru'],\n",
       " ['powershell'],\n",
       " ['java', 'postgresql', 'spring-boot', 'sql-order-by'],\n",
       " ['mysql', 'sql'],\n",
       " ['javascript', 'google-chrome', 'w3c'],\n",
       " ['google-api',\n",
       "  'gmail',\n",
       "  'google-oauth',\n",
       "  'gmail-api',\n",
       "  'google-developers-console'],\n",
       " ['python-3.x', 'selenium', 'selenium-webdriver', 'web-scraping', 'webdriver'],\n",
       " ['python',\n",
       "  'image',\n",
       "  'image-processing',\n",
       "  'computer-vision',\n",
       "  'python-imaging-library'],\n",
       " ['csv', 'awk']]"
      ]
     },
     "execution_count": 51,
     "metadata": {},
     "output_type": "execute_result"
    }
   ],
   "source": [
    "listed_item"
   ]
  },
  {
   "cell_type": "code",
   "execution_count": 52,
   "metadata": {},
   "outputs": [],
   "source": [
    "listed_item=[type for subitem in listed_item for type in subitem]"
   ]
  },
  {
   "cell_type": "code",
   "execution_count": 53,
   "metadata": {},
   "outputs": [
    {
     "data": {
      "text/plain": [
       "['ubuntu',\n",
       " 'user-interface',\n",
       " 'vagrant',\n",
       " 'javascript',\n",
       " 'arrays',\n",
       " 'sorting',\n",
       " 'python',\n",
       " 'visual-studio-code',\n",
       " 'debugging',\n",
       " 'pip',\n",
       " 'android',\n",
       " 'firebase',\n",
       " 'firebase-cloud-messaging',\n",
       " 'firebase-analytics',\n",
       " 'python',\n",
       " 'linux',\n",
       " 'bash',\n",
       " 'shell',\n",
       " 'tekton',\n",
       " 'python-3.x',\n",
       " 'pandas',\n",
       " 'beautifulsoup',\n",
       " 'gmail-api',\n",
       " 'python',\n",
       " 'arrays',\n",
       " 'list',\n",
       " 'encryption',\n",
       " 'google-cloud-messaging',\n",
       " 'openresty',\n",
       " 'reactjs',\n",
       " 'antd',\n",
       " 'sql',\n",
       " 'amazon-redshift',\n",
       " 'r',\n",
       " 'select',\n",
       " 'random',\n",
       " 'sample',\n",
       " 'firebase',\n",
       " 'go',\n",
       " 'google-cloud-platform',\n",
       " 'google-cloud-firestore',\n",
       " 'timestamp',\n",
       " 'php',\n",
       " 'arrays',\n",
       " 'sum',\n",
       " 'mapping',\n",
       " 'cyclic',\n",
       " 'windows',\n",
       " 'command-line',\n",
       " 'mkdir',\n",
       " 'xcopy',\n",
       " 'java',\n",
       " 'spring',\n",
       " 'api',\n",
       " 'security',\n",
       " 'boot',\n",
       " 'azure',\n",
       " 'azure-monitor-workbooks',\n",
       " 'google-cloud-functions',\n",
       " 'google-cloud-storage',\n",
       " 'fastapi',\n",
       " 'google-cloud-run',\n",
       " 'python',\n",
       " 'django',\n",
       " 'django-admin',\n",
       " 'sql-server',\n",
       " 'vb.net',\n",
       " 'ruby-on-rails',\n",
       " 'ruby',\n",
       " 'routes',\n",
       " 'reactjs',\n",
       " 'material-ui',\n",
       " 'react-material',\n",
       " 'mvvm',\n",
       " 'menubar',\n",
       " 'winui',\n",
       " 'mru',\n",
       " 'powershell',\n",
       " 'java',\n",
       " 'postgresql',\n",
       " 'spring-boot',\n",
       " 'sql-order-by',\n",
       " 'mysql',\n",
       " 'sql',\n",
       " 'javascript',\n",
       " 'google-chrome',\n",
       " 'w3c',\n",
       " 'google-api',\n",
       " 'gmail',\n",
       " 'google-oauth',\n",
       " 'gmail-api',\n",
       " 'google-developers-console',\n",
       " 'python-3.x',\n",
       " 'selenium',\n",
       " 'selenium-webdriver',\n",
       " 'web-scraping',\n",
       " 'webdriver',\n",
       " 'python',\n",
       " 'image',\n",
       " 'image-processing',\n",
       " 'computer-vision',\n",
       " 'python-imaging-library',\n",
       " 'csv',\n",
       " 'awk']"
      ]
     },
     "execution_count": 53,
     "metadata": {},
     "output_type": "execute_result"
    }
   ],
   "source": [
    "listed_item"
   ]
  },
  {
   "cell_type": "code",
   "execution_count": 54,
   "metadata": {},
   "outputs": [],
   "source": [
    "frequency = Counter(listed_item)"
   ]
  },
  {
   "cell_type": "code",
   "execution_count": 55,
   "metadata": {},
   "outputs": [
    {
     "data": {
      "text/plain": [
       "Counter({'ubuntu': 1,\n",
       "         'user-interface': 1,\n",
       "         'vagrant': 1,\n",
       "         'javascript': 2,\n",
       "         'arrays': 3,\n",
       "         'sorting': 1,\n",
       "         'python': 5,\n",
       "         'visual-studio-code': 1,\n",
       "         'debugging': 1,\n",
       "         'pip': 1,\n",
       "         'android': 1,\n",
       "         'firebase': 2,\n",
       "         'firebase-cloud-messaging': 1,\n",
       "         'firebase-analytics': 1,\n",
       "         'linux': 1,\n",
       "         'bash': 1,\n",
       "         'shell': 1,\n",
       "         'tekton': 1,\n",
       "         'python-3.x': 2,\n",
       "         'pandas': 1,\n",
       "         'beautifulsoup': 1,\n",
       "         'gmail-api': 2,\n",
       "         'list': 1,\n",
       "         'encryption': 1,\n",
       "         'google-cloud-messaging': 1,\n",
       "         'openresty': 1,\n",
       "         'reactjs': 2,\n",
       "         'antd': 1,\n",
       "         'sql': 2,\n",
       "         'amazon-redshift': 1,\n",
       "         'r': 1,\n",
       "         'select': 1,\n",
       "         'random': 1,\n",
       "         'sample': 1,\n",
       "         'go': 1,\n",
       "         'google-cloud-platform': 1,\n",
       "         'google-cloud-firestore': 1,\n",
       "         'timestamp': 1,\n",
       "         'php': 1,\n",
       "         'sum': 1,\n",
       "         'mapping': 1,\n",
       "         'cyclic': 1,\n",
       "         'windows': 1,\n",
       "         'command-line': 1,\n",
       "         'mkdir': 1,\n",
       "         'xcopy': 1,\n",
       "         'java': 2,\n",
       "         'spring': 1,\n",
       "         'api': 1,\n",
       "         'security': 1,\n",
       "         'boot': 1,\n",
       "         'azure': 1,\n",
       "         'azure-monitor-workbooks': 1,\n",
       "         'google-cloud-functions': 1,\n",
       "         'google-cloud-storage': 1,\n",
       "         'fastapi': 1,\n",
       "         'google-cloud-run': 1,\n",
       "         'django': 1,\n",
       "         'django-admin': 1,\n",
       "         'sql-server': 1,\n",
       "         'vb.net': 1,\n",
       "         'ruby-on-rails': 1,\n",
       "         'ruby': 1,\n",
       "         'routes': 1,\n",
       "         'material-ui': 1,\n",
       "         'react-material': 1,\n",
       "         'mvvm': 1,\n",
       "         'menubar': 1,\n",
       "         'winui': 1,\n",
       "         'mru': 1,\n",
       "         'powershell': 1,\n",
       "         'postgresql': 1,\n",
       "         'spring-boot': 1,\n",
       "         'sql-order-by': 1,\n",
       "         'mysql': 1,\n",
       "         'google-chrome': 1,\n",
       "         'w3c': 1,\n",
       "         'google-api': 1,\n",
       "         'gmail': 1,\n",
       "         'google-oauth': 1,\n",
       "         'google-developers-console': 1,\n",
       "         'selenium': 1,\n",
       "         'selenium-webdriver': 1,\n",
       "         'web-scraping': 1,\n",
       "         'webdriver': 1,\n",
       "         'image': 1,\n",
       "         'image-processing': 1,\n",
       "         'computer-vision': 1,\n",
       "         'python-imaging-library': 1,\n",
       "         'csv': 1,\n",
       "         'awk': 1})"
      ]
     },
     "execution_count": 55,
     "metadata": {},
     "output_type": "execute_result"
    }
   ],
   "source": [
    "frequency"
   ]
  },
  {
   "cell_type": "code",
   "execution_count": 56,
   "metadata": {},
   "outputs": [],
   "source": [
    "df_count = pd.DataFrame.from_records(list(dict(frequency).items()), columns=['tags','count'])"
   ]
  },
  {
   "cell_type": "code",
   "execution_count": 57,
   "metadata": {},
   "outputs": [
    {
     "data": {
      "text/html": [
       "<div>\n",
       "<style scoped>\n",
       "    .dataframe tbody tr th:only-of-type {\n",
       "        vertical-align: middle;\n",
       "    }\n",
       "\n",
       "    .dataframe tbody tr th {\n",
       "        vertical-align: top;\n",
       "    }\n",
       "\n",
       "    .dataframe thead th {\n",
       "        text-align: right;\n",
       "    }\n",
       "</style>\n",
       "<table border=\"1\" class=\"dataframe\">\n",
       "  <thead>\n",
       "    <tr style=\"text-align: right;\">\n",
       "      <th></th>\n",
       "      <th>tags</th>\n",
       "      <th>count</th>\n",
       "    </tr>\n",
       "  </thead>\n",
       "  <tbody>\n",
       "    <tr>\n",
       "      <th>6</th>\n",
       "      <td>python</td>\n",
       "      <td>5</td>\n",
       "    </tr>\n",
       "    <tr>\n",
       "      <th>4</th>\n",
       "      <td>arrays</td>\n",
       "      <td>3</td>\n",
       "    </tr>\n",
       "    <tr>\n",
       "      <th>28</th>\n",
       "      <td>sql</td>\n",
       "      <td>2</td>\n",
       "    </tr>\n",
       "    <tr>\n",
       "      <th>21</th>\n",
       "      <td>gmail-api</td>\n",
       "      <td>2</td>\n",
       "    </tr>\n",
       "    <tr>\n",
       "      <th>11</th>\n",
       "      <td>firebase</td>\n",
       "      <td>2</td>\n",
       "    </tr>\n",
       "  </tbody>\n",
       "</table>\n",
       "</div>"
      ],
      "text/plain": [
       "         tags  count\n",
       "6      python      5\n",
       "4      arrays      3\n",
       "28        sql      2\n",
       "21  gmail-api      2\n",
       "11   firebase      2"
      ]
     },
     "execution_count": 57,
     "metadata": {},
     "output_type": "execute_result"
    }
   ],
   "source": [
    "pd.DataFrame.from_records(list(dict(frequency).items()), columns=['tags','count']).sort_values(by='count',ascending= False).head(5)"
   ]
  },
  {
   "cell_type": "code",
   "execution_count": 59,
   "metadata": {},
   "outputs": [
    {
     "data": {
      "application/vnd.plotly.v1+json": {
       "config": {
        "plotlyServerURL": "https://plot.ly"
       },
       "data": [
        {
         "domain": {
          "x": [
           0,
           1
          ],
          "y": [
           0,
           1
          ]
         },
         "hovertemplate": "tags=%{label}<br>count=%{value}<extra></extra>",
         "labels": [
          "python",
          "arrays",
          "sql",
          "gmail-api",
          "firebase",
          "java",
          "python-3.x",
          "reactjs",
          "javascript",
          "ruby"
         ],
         "legendgroup": "",
         "name": "",
         "showlegend": true,
         "type": "pie",
         "values": [
          5,
          3,
          2,
          2,
          2,
          2,
          2,
          2,
          2,
          1
         ]
        }
       ],
       "layout": {
        "legend": {
         "tracegroupgap": 0
        },
        "template": {
         "data": {
          "bar": [
           {
            "error_x": {
             "color": "#f2f5fa"
            },
            "error_y": {
             "color": "#f2f5fa"
            },
            "marker": {
             "line": {
              "color": "rgb(17,17,17)",
              "width": 0.5
             },
             "pattern": {
              "fillmode": "overlay",
              "size": 10,
              "solidity": 0.2
             }
            },
            "type": "bar"
           }
          ],
          "barpolar": [
           {
            "marker": {
             "line": {
              "color": "rgb(17,17,17)",
              "width": 0.5
             },
             "pattern": {
              "fillmode": "overlay",
              "size": 10,
              "solidity": 0.2
             }
            },
            "type": "barpolar"
           }
          ],
          "carpet": [
           {
            "aaxis": {
             "endlinecolor": "#A2B1C6",
             "gridcolor": "#506784",
             "linecolor": "#506784",
             "minorgridcolor": "#506784",
             "startlinecolor": "#A2B1C6"
            },
            "baxis": {
             "endlinecolor": "#A2B1C6",
             "gridcolor": "#506784",
             "linecolor": "#506784",
             "minorgridcolor": "#506784",
             "startlinecolor": "#A2B1C6"
            },
            "type": "carpet"
           }
          ],
          "choropleth": [
           {
            "colorbar": {
             "outlinewidth": 0,
             "ticks": ""
            },
            "type": "choropleth"
           }
          ],
          "contour": [
           {
            "colorbar": {
             "outlinewidth": 0,
             "ticks": ""
            },
            "colorscale": [
             [
              0,
              "#0d0887"
             ],
             [
              0.1111111111111111,
              "#46039f"
             ],
             [
              0.2222222222222222,
              "#7201a8"
             ],
             [
              0.3333333333333333,
              "#9c179e"
             ],
             [
              0.4444444444444444,
              "#bd3786"
             ],
             [
              0.5555555555555556,
              "#d8576b"
             ],
             [
              0.6666666666666666,
              "#ed7953"
             ],
             [
              0.7777777777777778,
              "#fb9f3a"
             ],
             [
              0.8888888888888888,
              "#fdca26"
             ],
             [
              1,
              "#f0f921"
             ]
            ],
            "type": "contour"
           }
          ],
          "contourcarpet": [
           {
            "colorbar": {
             "outlinewidth": 0,
             "ticks": ""
            },
            "type": "contourcarpet"
           }
          ],
          "heatmap": [
           {
            "colorbar": {
             "outlinewidth": 0,
             "ticks": ""
            },
            "colorscale": [
             [
              0,
              "#0d0887"
             ],
             [
              0.1111111111111111,
              "#46039f"
             ],
             [
              0.2222222222222222,
              "#7201a8"
             ],
             [
              0.3333333333333333,
              "#9c179e"
             ],
             [
              0.4444444444444444,
              "#bd3786"
             ],
             [
              0.5555555555555556,
              "#d8576b"
             ],
             [
              0.6666666666666666,
              "#ed7953"
             ],
             [
              0.7777777777777778,
              "#fb9f3a"
             ],
             [
              0.8888888888888888,
              "#fdca26"
             ],
             [
              1,
              "#f0f921"
             ]
            ],
            "type": "heatmap"
           }
          ],
          "heatmapgl": [
           {
            "colorbar": {
             "outlinewidth": 0,
             "ticks": ""
            },
            "colorscale": [
             [
              0,
              "#0d0887"
             ],
             [
              0.1111111111111111,
              "#46039f"
             ],
             [
              0.2222222222222222,
              "#7201a8"
             ],
             [
              0.3333333333333333,
              "#9c179e"
             ],
             [
              0.4444444444444444,
              "#bd3786"
             ],
             [
              0.5555555555555556,
              "#d8576b"
             ],
             [
              0.6666666666666666,
              "#ed7953"
             ],
             [
              0.7777777777777778,
              "#fb9f3a"
             ],
             [
              0.8888888888888888,
              "#fdca26"
             ],
             [
              1,
              "#f0f921"
             ]
            ],
            "type": "heatmapgl"
           }
          ],
          "histogram": [
           {
            "marker": {
             "pattern": {
              "fillmode": "overlay",
              "size": 10,
              "solidity": 0.2
             }
            },
            "type": "histogram"
           }
          ],
          "histogram2d": [
           {
            "colorbar": {
             "outlinewidth": 0,
             "ticks": ""
            },
            "colorscale": [
             [
              0,
              "#0d0887"
             ],
             [
              0.1111111111111111,
              "#46039f"
             ],
             [
              0.2222222222222222,
              "#7201a8"
             ],
             [
              0.3333333333333333,
              "#9c179e"
             ],
             [
              0.4444444444444444,
              "#bd3786"
             ],
             [
              0.5555555555555556,
              "#d8576b"
             ],
             [
              0.6666666666666666,
              "#ed7953"
             ],
             [
              0.7777777777777778,
              "#fb9f3a"
             ],
             [
              0.8888888888888888,
              "#fdca26"
             ],
             [
              1,
              "#f0f921"
             ]
            ],
            "type": "histogram2d"
           }
          ],
          "histogram2dcontour": [
           {
            "colorbar": {
             "outlinewidth": 0,
             "ticks": ""
            },
            "colorscale": [
             [
              0,
              "#0d0887"
             ],
             [
              0.1111111111111111,
              "#46039f"
             ],
             [
              0.2222222222222222,
              "#7201a8"
             ],
             [
              0.3333333333333333,
              "#9c179e"
             ],
             [
              0.4444444444444444,
              "#bd3786"
             ],
             [
              0.5555555555555556,
              "#d8576b"
             ],
             [
              0.6666666666666666,
              "#ed7953"
             ],
             [
              0.7777777777777778,
              "#fb9f3a"
             ],
             [
              0.8888888888888888,
              "#fdca26"
             ],
             [
              1,
              "#f0f921"
             ]
            ],
            "type": "histogram2dcontour"
           }
          ],
          "mesh3d": [
           {
            "colorbar": {
             "outlinewidth": 0,
             "ticks": ""
            },
            "type": "mesh3d"
           }
          ],
          "parcoords": [
           {
            "line": {
             "colorbar": {
              "outlinewidth": 0,
              "ticks": ""
             }
            },
            "type": "parcoords"
           }
          ],
          "pie": [
           {
            "automargin": true,
            "type": "pie"
           }
          ],
          "scatter": [
           {
            "marker": {
             "line": {
              "color": "#283442"
             }
            },
            "type": "scatter"
           }
          ],
          "scatter3d": [
           {
            "line": {
             "colorbar": {
              "outlinewidth": 0,
              "ticks": ""
             }
            },
            "marker": {
             "colorbar": {
              "outlinewidth": 0,
              "ticks": ""
             }
            },
            "type": "scatter3d"
           }
          ],
          "scattercarpet": [
           {
            "marker": {
             "colorbar": {
              "outlinewidth": 0,
              "ticks": ""
             }
            },
            "type": "scattercarpet"
           }
          ],
          "scattergeo": [
           {
            "marker": {
             "colorbar": {
              "outlinewidth": 0,
              "ticks": ""
             }
            },
            "type": "scattergeo"
           }
          ],
          "scattergl": [
           {
            "marker": {
             "line": {
              "color": "#283442"
             }
            },
            "type": "scattergl"
           }
          ],
          "scattermapbox": [
           {
            "marker": {
             "colorbar": {
              "outlinewidth": 0,
              "ticks": ""
             }
            },
            "type": "scattermapbox"
           }
          ],
          "scatterpolar": [
           {
            "marker": {
             "colorbar": {
              "outlinewidth": 0,
              "ticks": ""
             }
            },
            "type": "scatterpolar"
           }
          ],
          "scatterpolargl": [
           {
            "marker": {
             "colorbar": {
              "outlinewidth": 0,
              "ticks": ""
             }
            },
            "type": "scatterpolargl"
           }
          ],
          "scatterternary": [
           {
            "marker": {
             "colorbar": {
              "outlinewidth": 0,
              "ticks": ""
             }
            },
            "type": "scatterternary"
           }
          ],
          "surface": [
           {
            "colorbar": {
             "outlinewidth": 0,
             "ticks": ""
            },
            "colorscale": [
             [
              0,
              "#0d0887"
             ],
             [
              0.1111111111111111,
              "#46039f"
             ],
             [
              0.2222222222222222,
              "#7201a8"
             ],
             [
              0.3333333333333333,
              "#9c179e"
             ],
             [
              0.4444444444444444,
              "#bd3786"
             ],
             [
              0.5555555555555556,
              "#d8576b"
             ],
             [
              0.6666666666666666,
              "#ed7953"
             ],
             [
              0.7777777777777778,
              "#fb9f3a"
             ],
             [
              0.8888888888888888,
              "#fdca26"
             ],
             [
              1,
              "#f0f921"
             ]
            ],
            "type": "surface"
           }
          ],
          "table": [
           {
            "cells": {
             "fill": {
              "color": "#506784"
             },
             "line": {
              "color": "rgb(17,17,17)"
             }
            },
            "header": {
             "fill": {
              "color": "#2a3f5f"
             },
             "line": {
              "color": "rgb(17,17,17)"
             }
            },
            "type": "table"
           }
          ]
         },
         "layout": {
          "annotationdefaults": {
           "arrowcolor": "#f2f5fa",
           "arrowhead": 0,
           "arrowwidth": 1
          },
          "autotypenumbers": "strict",
          "coloraxis": {
           "colorbar": {
            "outlinewidth": 0,
            "ticks": ""
           }
          },
          "colorscale": {
           "diverging": [
            [
             0,
             "#8e0152"
            ],
            [
             0.1,
             "#c51b7d"
            ],
            [
             0.2,
             "#de77ae"
            ],
            [
             0.3,
             "#f1b6da"
            ],
            [
             0.4,
             "#fde0ef"
            ],
            [
             0.5,
             "#f7f7f7"
            ],
            [
             0.6,
             "#e6f5d0"
            ],
            [
             0.7,
             "#b8e186"
            ],
            [
             0.8,
             "#7fbc41"
            ],
            [
             0.9,
             "#4d9221"
            ],
            [
             1,
             "#276419"
            ]
           ],
           "sequential": [
            [
             0,
             "#0d0887"
            ],
            [
             0.1111111111111111,
             "#46039f"
            ],
            [
             0.2222222222222222,
             "#7201a8"
            ],
            [
             0.3333333333333333,
             "#9c179e"
            ],
            [
             0.4444444444444444,
             "#bd3786"
            ],
            [
             0.5555555555555556,
             "#d8576b"
            ],
            [
             0.6666666666666666,
             "#ed7953"
            ],
            [
             0.7777777777777778,
             "#fb9f3a"
            ],
            [
             0.8888888888888888,
             "#fdca26"
            ],
            [
             1,
             "#f0f921"
            ]
           ],
           "sequentialminus": [
            [
             0,
             "#0d0887"
            ],
            [
             0.1111111111111111,
             "#46039f"
            ],
            [
             0.2222222222222222,
             "#7201a8"
            ],
            [
             0.3333333333333333,
             "#9c179e"
            ],
            [
             0.4444444444444444,
             "#bd3786"
            ],
            [
             0.5555555555555556,
             "#d8576b"
            ],
            [
             0.6666666666666666,
             "#ed7953"
            ],
            [
             0.7777777777777778,
             "#fb9f3a"
            ],
            [
             0.8888888888888888,
             "#fdca26"
            ],
            [
             1,
             "#f0f921"
            ]
           ]
          },
          "colorway": [
           "#636efa",
           "#EF553B",
           "#00cc96",
           "#ab63fa",
           "#FFA15A",
           "#19d3f3",
           "#FF6692",
           "#B6E880",
           "#FF97FF",
           "#FECB52"
          ],
          "font": {
           "color": "#f2f5fa"
          },
          "geo": {
           "bgcolor": "rgb(17,17,17)",
           "lakecolor": "rgb(17,17,17)",
           "landcolor": "rgb(17,17,17)",
           "showlakes": true,
           "showland": true,
           "subunitcolor": "#506784"
          },
          "hoverlabel": {
           "align": "left"
          },
          "hovermode": "closest",
          "mapbox": {
           "style": "dark"
          },
          "paper_bgcolor": "rgb(17,17,17)",
          "plot_bgcolor": "rgb(17,17,17)",
          "polar": {
           "angularaxis": {
            "gridcolor": "#506784",
            "linecolor": "#506784",
            "ticks": ""
           },
           "bgcolor": "rgb(17,17,17)",
           "radialaxis": {
            "gridcolor": "#506784",
            "linecolor": "#506784",
            "ticks": ""
           }
          },
          "scene": {
           "xaxis": {
            "backgroundcolor": "rgb(17,17,17)",
            "gridcolor": "#506784",
            "gridwidth": 2,
            "linecolor": "#506784",
            "showbackground": true,
            "ticks": "",
            "zerolinecolor": "#C8D4E3"
           },
           "yaxis": {
            "backgroundcolor": "rgb(17,17,17)",
            "gridcolor": "#506784",
            "gridwidth": 2,
            "linecolor": "#506784",
            "showbackground": true,
            "ticks": "",
            "zerolinecolor": "#C8D4E3"
           },
           "zaxis": {
            "backgroundcolor": "rgb(17,17,17)",
            "gridcolor": "#506784",
            "gridwidth": 2,
            "linecolor": "#506784",
            "showbackground": true,
            "ticks": "",
            "zerolinecolor": "#C8D4E3"
           }
          },
          "shapedefaults": {
           "line": {
            "color": "#f2f5fa"
           }
          },
          "sliderdefaults": {
           "bgcolor": "#C8D4E3",
           "bordercolor": "rgb(17,17,17)",
           "borderwidth": 1,
           "tickwidth": 0
          },
          "ternary": {
           "aaxis": {
            "gridcolor": "#506784",
            "linecolor": "#506784",
            "ticks": ""
           },
           "baxis": {
            "gridcolor": "#506784",
            "linecolor": "#506784",
            "ticks": ""
           },
           "bgcolor": "rgb(17,17,17)",
           "caxis": {
            "gridcolor": "#506784",
            "linecolor": "#506784",
            "ticks": ""
           }
          },
          "title": {
           "x": 0.05
          },
          "updatemenudefaults": {
           "bgcolor": "#506784",
           "borderwidth": 0
          },
          "xaxis": {
           "automargin": true,
           "gridcolor": "#283442",
           "linecolor": "#506784",
           "ticks": "",
           "title": {
            "standoff": 15
           },
           "zerolinecolor": "#283442",
           "zerolinewidth": 2
          },
          "yaxis": {
           "automargin": true,
           "gridcolor": "#283442",
           "linecolor": "#506784",
           "ticks": "",
           "title": {
            "standoff": 15
           },
           "zerolinecolor": "#283442",
           "zerolinewidth": 2
          }
         }
        },
        "title": {
         "text": "The most popular programming language that people ask about"
        }
       }
      }
     },
     "metadata": {},
     "output_type": "display_data"
    }
   ],
   "source": [
    "px.pie(df_count.sort_values(by='count',ascending= False).head(10), \n",
    "        values='count', names='tags', \n",
    "        title='The most popular programming language that people ask about')"
   ]
  },
  {
   "attachments": {},
   "cell_type": "markdown",
   "metadata": {},
   "source": [
    "# **Thank You**"
   ]
  }
 ],
 "metadata": {
  "kernelspec": {
   "display_name": "Python 3",
   "language": "python",
   "name": "python3"
  },
  "language_info": {
   "codemirror_mode": {
    "name": "ipython",
    "version": 3
   },
   "file_extension": ".py",
   "mimetype": "text/x-python",
   "name": "python",
   "nbconvert_exporter": "python",
   "pygments_lexer": "ipython3",
   "version": "3.10.2"
  },
  "orig_nbformat": 4,
  "vscode": {
   "interpreter": {
    "hash": "f9065522c5e63990a2bf11f30131faddea3a926c56ec45e0063eb1269689bc0d"
   }
  }
 },
 "nbformat": 4,
 "nbformat_minor": 2
}
